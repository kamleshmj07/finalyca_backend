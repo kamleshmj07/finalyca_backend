{
 "cells": [
  {
   "cell_type": "code",
   "execution_count": 1,
   "id": "9da5827e-7ab6-448b-9d59-483e37a709f8",
   "metadata": {},
   "outputs": [],
   "source": [
    "import pandas as pd\n",
    "import os\n",
    "import datetime\n",
    "import json\n",
    "from functools import reduce"
   ]
  },
  {
   "cell_type": "code",
   "execution_count": 2,
   "id": "850969e0-f1bc-47c1-ba1d-c646b2a9e6f2",
   "metadata": {},
   "outputs": [],
   "source": [
    "ROOT_DIR = r\"C:\\dev\\backend\\tasks\\samples\"\n",
    "#asof_date = datetime.date(2022, 12, 7)\n",
    "#DIR_PATH = os.path.join(ROOT_DIR, asof_date.strftime(\"%d%m%Y\"))\n",
    "\n",
    "#DIR_PATH"
   ]
  },
  {
   "cell_type": "code",
   "execution_count": 3,
   "id": "ba25dfea-5ced-4c20-8994-b41f2b070450",
   "metadata": {},
   "outputs": [],
   "source": [
    "# Read json files\n",
    "sebi_detail_json_fp = os.path.join(ROOT_DIR, \"sebi_detail.json\")\n",
    "sebi_overview_json_fp = os.path.join(ROOT_DIR, \"sebi_overview.json\")\n",
    "\n",
    "lst_files = [sebi_detail_json_fp, sebi_overview_json_fp]\n",
    "lst_files_content = []\n",
    "\n",
    "for f in lst_files:\n",
    "    # opening JSON file\n",
    "    with open(f) as json_file:\n",
    "        lst_files_content.append(json.load(json_file))"
   ]
  },
  {
   "cell_type": "code",
   "execution_count": 7,
   "id": "952b6282",
   "metadata": {},
   "outputs": [
    {
     "name": "stdout",
     "output_type": "stream",
     "text": [
      "date data not matching for ALDER CAPITAL ADVISORS LLP\n",
      "date data not matching for ICICI PRUDENTIAL ASSET MANAGEMENT COMPANY LTD\n",
      "All good!\n"
     ]
    }
   ],
   "source": [
    "# Read Sebi Overview & Details\n",
    "sebi_details_data = lst_files_content[0]\n",
    "sebi_overview_data = lst_files_content[1]\n",
    "lst_sebi_data_df = []\n",
    "lst_sebi_latest_data_df = []\n",
    "\n",
    "for so in sebi_overview_data:\n",
    "    amc_name = so['name']\n",
    "    amc_sebi_nr = so['sebi_nr']\n",
    "    amc_detail = sebi_details_data.get(amc_sebi_nr)\n",
    "    amc_growth_data = amc_detail.get('growth')\n",
    "    amc_flow_data = amc_detail.get('flow')\n",
    "    if amc_growth_data['date'] == amc_flow_data['date']:\n",
    "        combined_data = amc_growth_data | amc_flow_data\n",
    "    else:\n",
    "        print(f'date data not matching for {amc_name}')\n",
    "        if len(amc_growth_data['date']) == 0:\n",
    "            combined_data = amc_flow_data\n",
    "        # TODO: Add handling here to make sure we map the dates accordingly to data\n",
    "    \n",
    "    columns = list(combined_data.keys())\n",
    "    amc_data_df = pd.DataFrame(combined_data, columns=columns)\n",
    "    amc_data_df.insert(loc = 0, column = 'amc_sebi_nr', value = amc_sebi_nr)\n",
    "    amc_data_df.insert(loc = 0, column = 'amc_name', value = amc_name)\n",
    "    amc_data_df['monthly_netflow_cr'] = amc_data_df['monthly_inflow'] - amc_data_df['monthly_outflow']\n",
    "    #print(amc_data_df)\n",
    "    lst_sebi_data_df.append(amc_data_df)\n",
    "    lst_sebi_latest_data_df.append(amc_data_df.tail(1))\n",
    "\n",
    "\n",
    "print('All good!')"
   ]
  },
  {
   "cell_type": "code",
   "execution_count": 8,
   "id": "44022b23",
   "metadata": {},
   "outputs": [],
   "source": [
    "# Combine all the dfs into one\n",
    "final_df = pd.concat(lst_sebi_data_df)\n",
    "final_df.to_excel(r'C:\\dev\\backend\\tasks\\samples\\sebi_report.xlsx', index=False)\n",
    "\n",
    "# Get latest month data into one\n",
    "final_latest_df = pd.concat(lst_sebi_latest_data_df)\n",
    "final_latest_df.to_excel(r'C:\\dev\\backend\\tasks\\samples\\sebi_report_last_available_month.xlsx', index=False)\n"
   ]
  },
  {
   "cell_type": "code",
   "execution_count": null,
   "id": "8601312a",
   "metadata": {},
   "outputs": [],
   "source": []
  }
 ],
 "metadata": {
  "kernelspec": {
   "display_name": "Python 3 (ipykernel)",
   "language": "python",
   "name": "python3"
  },
  "language_info": {
   "codemirror_mode": {
    "name": "ipython",
    "version": 3
   },
   "file_extension": ".py",
   "mimetype": "text/x-python",
   "name": "python",
   "nbconvert_exporter": "python",
   "pygments_lexer": "ipython3",
   "version": "3.10.8"
  }
 },
 "nbformat": 4,
 "nbformat_minor": 5
}
