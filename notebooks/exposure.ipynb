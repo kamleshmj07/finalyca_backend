{
 "cells": [
  {
   "cell_type": "code",
   "execution_count": 1,
   "id": "303859a0-2834-4049-8d1d-1964073d1f63",
   "metadata": {},
   "outputs": [],
   "source": [
    "from utils.finalyca_store import get_finalyca_scoped_session\n",
    "db_session = get_finalyca_scoped_session(False)\n",
    "from fin_models.masters_models import *\n",
    "from fin_models.transaction_models import *\n",
    "from sqlalchemy import func, desc, select, and_\n",
    "import datetime"
   ]
  },
  {
   "cell_type": "code",
   "execution_count": 2,
   "id": "e7fb7cea-bfe4-4d8c-96dc-556a2d65430f",
   "metadata": {},
   "outputs": [],
   "source": [
    "def temp_fund_stock_tp_json(sql_obj):\n",
    "    obj = dict()\n",
    "    obj[\"AMC_Id\"] = sql_obj.AMC_Id\n",
    "    obj[\"AMC_Name\"] = sql_obj.AMC_Name\n",
    "    obj[\"AMC_Logo\"] = sql_obj.AMC_Logo\n",
    "    obj[\"Fund_Id\"] = sql_obj.Fund_Id\n",
    "    obj[\"Plan_Id\"] = sql_obj.Plan_Id\n",
    "    obj[\"Plan_Name\"] = sql_obj.Plan_Name\n",
    "    obj[\"Product_Id\"] = sql_obj.Product_Id\n",
    "    obj[\"Product_Name\"] = sql_obj.Product_Name\n",
    "    obj[\"Classification_Id\"] = sql_obj.Classification_Id\n",
    "    obj[\"Classification_Name\"] = sql_obj.Classification_Name\n",
    "    obj[\"Percentage_to_AUM\"] = sql_obj.Percentage_to_AUM\n",
    "    obj[\"Value_In_Cr\"] = sql_obj.Value_In_Cr\n",
    "\n",
    "    return obj"
   ]
  },
  {
   "cell_type": "code",
   "execution_count": 3,
   "id": "4c3a5d81-5faf-4b2e-96d0-8d222fdfcc09",
   "metadata": {},
   "outputs": [],
   "source": [
    "issuer_id = 329\n",
    "Classification_Id = None\n",
    "Product_Id = None\n",
    "AMC_Id = None\n",
    "\n",
    "issuer_name = db_session.query(Issuer.Issuer_Name).filter(Issuer.Issuer_Id==issuer_id).scalar()\n",
    "\n",
    "objs = list()\n",
    "q = db_session.query(\n",
    "    AMC.AMC_Id, AMC.AMC_Name, AMC.AMC_Logo, FundStocks.Fund_Id, FundStocks.Plan_Id, FundStocks.Plan_Name, FundStocks.Product_Id, FundStocks.Product_Name, FundStocks.Classification_Id, FundStocks.Classification_Name, func.sum(FundStocks.Percentage_to_AUM).label('Percentage_to_AUM'), func.sum(FundStocks.Value_In_Inr/10000000).label('Value_In_Cr'), func.min(FundStocks.Purchase_Date)\n",
    "    ).join(MFSecurity, MFSecurity.Fund_Id==FundStocks.Fund_Id).join(AMC, AMC.AMC_Id==MFSecurity.AMC_Id)\n",
    "q = q.filter(FundStocks.Value_In_Inr> 0.0).filter(FundStocks.Percentage_to_AUM> 0.0)\n",
    "if Classification_Id:\n",
    "    q = q.filter(FundStocks.Classification_Id==Classification_Id)\n",
    "if Product_Id:\n",
    "    q = q.filter(FundStocks.Product_Id==Product_Id)\n",
    "if AMC_Id:\n",
    "    q = q.filter(AMC.AMC_Id==AMC_Id)\n",
    "\n",
    "q = q.filter(FundStocks.IssuerName==issuer_name)\n",
    "q = q.group_by(AMC.AMC_Id, AMC.AMC_Name, AMC.AMC_Logo, FundStocks.Fund_Id, FundStocks.Plan_Id, FundStocks.Plan_Name, FundStocks.Product_Id, FundStocks.Product_Name, FundStocks.Classification_Id, FundStocks.Classification_Name, FundStocks.IssuerName)\n",
    "\n",
    "sql_fund_stocks = q.order_by(desc('Percentage_to_AUM')).all()\n",
    "for sql_obj in sql_fund_stocks:\n",
    "    obj = temp_fund_stock_tp_json(sql_obj)\n",
    "    objs.append(obj)\n",
    "\n",
    "resp = dict()\n",
    "resp[\"total_funds\"] = len(sql_fund_stocks)\n",
    "resp[\"data\"] = objs\n",
    "\n",
    "resp[\"highest_weight\"] = temp_fund_stock_tp_json(sql_fund_stocks[0])\n",
    "resp[\"lowest_weight\"] = temp_fund_stock_tp_json(sql_fund_stocks[-1])\n",
    "\n",
    "sql_fund_stocks = q.order_by(desc('Value_In_Cr')).all()\n",
    "\n",
    "resp[\"highest_value\"] = temp_fund_stock_tp_json(sql_fund_stocks[0])\n",
    "resp[\"lowest_value\"] = temp_fund_stock_tp_json(sql_fund_stocks[-1])"
   ]
  }
 ],
 "metadata": {
  "kernelspec": {
   "display_name": "Python 3 (ipykernel)",
   "language": "python",
   "name": "python3"
  },
  "language_info": {
   "codemirror_mode": {
    "name": "ipython",
    "version": 3
   },
   "file_extension": ".py",
   "mimetype": "text/x-python",
   "name": "python",
   "nbconvert_exporter": "python",
   "pygments_lexer": "ipython3",
   "version": "3.10.1"
  }
 },
 "nbformat": 4,
 "nbformat_minor": 5
}
