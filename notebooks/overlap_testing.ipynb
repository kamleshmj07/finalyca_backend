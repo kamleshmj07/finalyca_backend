{
 "cells": [
  {
   "cell_type": "code",
   "execution_count": 25,
   "source": [
    "from typing import Dict\r\n",
    "from sqlalchemy import func, desc, and_\r\n",
    "import json\r\n",
    "from datetime import date, timedelta\r\n",
    "from utils.finalyca_store import get_finalyca_scoped_session\r\n",
    "import pandas as pd\r\n",
    "from utils.utils import print_query\r\n",
    "from fin_models.masters_models import *\r\n",
    "from fin_models.transaction_models import *\r\n",
    "import datetime\r\n",
    "import itertools"
   ],
   "outputs": [],
   "metadata": {}
  },
  {
   "cell_type": "code",
   "execution_count": 26,
   "source": [
    "pd.set_option('display.max_rows', None)\r\n",
    "db_session = get_finalyca_scoped_session(False)"
   ],
   "outputs": [],
   "metadata": {}
  },
  {
   "cell_type": "code",
   "execution_count": 27,
   "source": [
    "plan_list = [5, 6, 7]\r\n",
    "transaction_date = datetime.date(2022, 4, 30)"
   ],
   "outputs": [],
   "metadata": {}
  },
  {
   "cell_type": "code",
   "execution_count": 29,
   "source": [
    "from bizlogic.importer_helper import get_plan_overlap, get_trailing_return_and_riskanalysis\r\n",
    "\r\n",
    "resp = dict()\r\n",
    "resp[\"overlap\"] = get_plan_overlap(db_session, plan_list)\r\n",
    "\r\n",
    "trailing_return, riskanalysis = get_trailing_return_and_riskanalysis(db_session, plan_list)\r\n",
    "resp[\"trailing_returns\"] = trailing_return\r\n",
    "resp[\"risk_analysis\"] = riskanalysis\r\n",
    "\r\n",
    "resp"
   ],
   "outputs": [],
   "metadata": {}
  },
  {
   "cell_type": "code",
   "execution_count": 30,
   "source": [
    "plan = plan_list[0]\r\n",
    "\r\n",
    "\r\n",
    "sql_fund1 = db_session.query(AMC.AMC_Logo, \r\n",
    "Product.Product_Code, Product.Product_Name).select_from(AMC).join(MFSecurity, AMC.AMC_Id == MFSecurity.AMC_Id).join(Plans, Plans.MF_Security_Id == MFSecurity.MF_Security_Id).join(PlanProductMapping, PlanProductMapping.Plan_Id == Plans.Plan_Id).join(Product, Product.Product_Id == PlanProductMapping.Product_Id).filter(Plans.Plan_Id == plan).filter(MFSecurity.Is_Deleted != 1).filter(AMC.Is_Deleted != 1).filter(Plans.Is_Deleted != 1).filter(PlanProductMapping.Is_Deleted != 1).first()\r\n",
    "\r\n",
    "\r\n"
   ],
   "outputs": [],
   "metadata": {}
  },
  {
   "cell_type": "code",
   "execution_count": 31,
   "source": [
    "sql_fund1"
   ],
   "outputs": [
    {
     "output_type": "execute_result",
     "data": {
      "text/plain": [
       "('Images/71357a22-5bc1-488b-a0b1-8dfd537ff9f2.png', 'PMS', 'PMS')"
      ]
     },
     "metadata": {},
     "execution_count": 31
    }
   ],
   "metadata": {}
  }
 ],
 "metadata": {
  "kernelspec": {
   "name": "python3",
   "display_name": "Python 3.10.1 64-bit ('venv': venv)"
  },
  "language_info": {
   "codemirror_mode": {
    "name": "ipython",
    "version": 3
   },
   "file_extension": ".py",
   "mimetype": "text/x-python",
   "name": "python",
   "nbconvert_exporter": "python",
   "pygments_lexer": "ipython3",
   "version": "3.10.1"
  },
  "interpreter": {
   "hash": "19e1a96e3436bd1f8f2e2597c16fddcda1e65ab3feb920aaa4f84fb6aaee0dc7"
  }
 },
 "nbformat": 4,
 "nbformat_minor": 5
}