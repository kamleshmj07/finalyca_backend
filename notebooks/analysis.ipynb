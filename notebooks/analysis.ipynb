{
 "cells": [
  {
   "cell_type": "code",
   "execution_count": 1,
   "id": "009a99f2-394f-4380-8ef3-ae26f7cbede6",
   "metadata": {},
   "outputs": [],
   "source": [
    "def get_rolling_returns(PLAN_ID, TRANSACTION_DATE, ROLLING_YEARS):\n",
    "    query = db_session.query(NAV.NAV_Date, NAV.NAV).filter(NAV.Is_Deleted != 1)\\\n",
    "    .filter(NAV.Plan_Id == PLAN_ID).filter(NAV.NAV_Date <= TRANSACTION_DATE)\\\n",
    "    .filter(NAV.NAV_Type == 'P').order_by(NAV.NAV_Date).all()\n",
    "    df = pd.DataFrame(query)\n",
    "    df['NAV_Date'] = df['NAV_Date'].apply(pd.to_datetime)\n",
    "    df = df.set_index('NAV_Date')\n",
    "    df[\"old_NAV\"] = df.shift(periods= 365*ROLLING_YEARS, freq='D')[\"NAV\"]\n",
    "    df[\"returns\"] = ((df[\"NAV\"] - df[\"old_NAV\"])/ df[\"old_NAV\"])*100\n",
    "    df[\"returns\"].median()\n",
    "    df[\"returns\"].max()\n",
    "    df[\"returns\"].min()\n",
    "    df[\"returns\"].mean()\n",
    "    total = len(df)\n",
    "    ret = df['returns']\n",
    "    sum((ret>50) & (ret<75))\n",
    "    return df"
   ]
  },
  {
   "cell_type": "code",
   "execution_count": 2,
   "id": "2073538d-f330-47b9-8bb2-354cdb77a345",
   "metadata": {},
   "outputs": [],
   "source": [
    "from utils.finalyca_store import get_finalyca_scoped_session\n",
    "from utils.utils import print_query\n",
    "from fin_models.transaction_models import NAV, RiskFreeIndexRate\n",
    "from bizlogic.analytics import get_risk_ratios\n",
    "import datetime\n",
    "from sqlalchemy import func"
   ]
  },
  {
   "cell_type": "code",
   "execution_count": 3,
   "id": "fb5f69f1-14c8-4402-ae8a-1864f127c0b6",
   "metadata": {},
   "outputs": [],
   "source": [
    "db_session = get_finalyca_scoped_session(False)\n",
    "PLAN_ID = 6\n",
    "TRANSACTION_DATE = datetime.datetime(2022, 5, 31)\n",
    "ROLLING_YEARS = 1\n",
    "INDEX_ID = 242"
   ]
  },
  {
   "cell_type": "code",
   "execution_count": 4,
   "id": "a1aefdb1-835e-4e69-b236-95eef0679fdd",
   "metadata": {},
   "outputs": [
    {
     "data": {
      "text/plain": [
       "{'StandardDeviation': 21.637877114147333,\n",
       " 'SharpeRatio': 0.4451013927898268,\n",
       " 'Alpha': -0.4032325778579189,\n",
       " 'R_Squared': 0.8142440476414253,\n",
       " 'Beta': 0.905264110759205,\n",
       " 'Mean': 13.536490332122096,\n",
       " 'Sortino': 0.4622798062021884}"
      ]
     },
     "execution_count": 4,
     "metadata": {},
     "output_type": "execute_result"
    }
   ],
   "source": [
    "sql_rate_max_date = db_session.query(func.max(RiskFreeIndexRate.Date)).filter(RiskFreeIndexRate.Date <= TRANSACTION_DATE).scalar()\n",
    "sql_rate = db_session.query(RiskFreeIndexRate).filter(RiskFreeIndexRate.Date == sql_rate_max_date).one_or_none()\n",
    "risk_free_index_date = sql_rate.Date\n",
    "risk_free_index_rate = float(sql_rate.Rate)\n",
    "get_risk_ratios(db_session, PLAN_ID, INDEX_ID, TRANSACTION_DATE, 36, risk_free_index_rate)"
   ]
  },
  {
   "cell_type": "code",
   "execution_count": null,
   "id": "7c2b1f6d-4648-4a3a-a0d9-056c7603e570",
   "metadata": {},
   "outputs": [],
   "source": []
  }
 ],
 "metadata": {
  "kernelspec": {
   "display_name": "Python 3 (ipykernel)",
   "language": "python",
   "name": "python3"
  },
  "language_info": {
   "codemirror_mode": {
    "name": "ipython",
    "version": 3
   },
   "file_extension": ".py",
   "mimetype": "text/x-python",
   "name": "python",
   "nbconvert_exporter": "python",
   "pygments_lexer": "ipython3",
   "version": "3.10.1"
  }
 },
 "nbformat": 4,
 "nbformat_minor": 5
}
