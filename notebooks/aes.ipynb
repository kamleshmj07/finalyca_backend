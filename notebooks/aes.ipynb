{
 "cells": [
  {
   "cell_type": "code",
   "execution_count": 31,
   "id": "fa4b4a98-be23-4a5d-8bdd-58d9bac8c2bf",
   "metadata": {},
   "outputs": [],
   "source": [
    "AESKey = \"8181818180808080\"\n",
    "AESIV = \"8080808081818181\"\n",
    "# key = '8181818180808080' #Must Be 16 char for AES128"
   ]
  },
  {
   "cell_type": "code",
   "execution_count": 41,
   "id": "9ffde91e-90f0-4592-8d59-c1c546f2fe29",
   "metadata": {},
   "outputs": [],
   "source": [
    "import base64 \n",
    "from Crypto.Cipher import AES\n",
    "from Crypto.Util.Padding import pad,unpad\n",
    "def encrypt(raw, key, iv):\n",
    "        raw = pad(raw.encode(), 16)\n",
    "        cipher = AES.new(key.encode('utf-8'), AES.MODE_CBC, iv.encode('utf-8'))\n",
    "        return base64.b64encode(cipher.encrypt(raw))\n",
    "\n",
    "def decrypt(enco, key, iv):\n",
    "        enc = base64.b64decode(enco)\n",
    "        cipher = AES.new(key.encode('utf-8'), AES.MODE_CBC, iv.encode('utf-8'))\n",
    "        return unpad(cipher.decrypt(enc), 16)"
   ]
  },
  {
   "cell_type": "code",
   "execution_count": 46,
   "id": "d3a76858-9265-4844-922c-5a78334c295a",
   "metadata": {},
   "outputs": [
    {
     "name": "stdout",
     "output_type": "stream",
     "text": [
      "encrypted ECB Base64: u9inWPqI7ksrtAV72L5Huw==\n",
      "data:  914159\n"
     ]
    }
   ],
   "source": [
    "data = '914159'\n",
    "\n",
    "encrypted = encrypt(data, AESKey, AESIV)\n",
    "print('encrypted ECB Base64:',encrypted.decode(\"utf-8\", \"ignore\"))\n",
    "\n",
    "decrypted = decrypt(encrypted, AESKey, AESIV)\n",
    "print('data: ',decrypted.decode(\"utf-8\", \"ignore\"))"
   ]
  },
  {
   "cell_type": "code",
   "execution_count": 45,
   "id": "4862c8bb-ad02-4b8c-9091-7d571c5cb22d",
   "metadata": {},
   "outputs": [
    {
     "data": {
      "text/plain": [
       "b'7900062448'"
      ]
     },
     "execution_count": 45,
     "metadata": {},
     "output_type": "execute_result"
    }
   ],
   "source": [
    "decrypt('Gb0VO+0QkM1m6Pe+hTq5yw==', AESKey, AESIV)"
   ]
  },
  {
   "cell_type": "code",
   "execution_count": null,
   "id": "ddbbba87-acfa-44fc-896d-76953a4f1cb1",
   "metadata": {},
   "outputs": [],
   "source": []
  }
 ],
 "metadata": {
  "kernelspec": {
   "display_name": "Python 3 (ipykernel)",
   "language": "python",
   "name": "python3"
  },
  "language_info": {
   "codemirror_mode": {
    "name": "ipython",
    "version": 3
   },
   "file_extension": ".py",
   "mimetype": "text/x-python",
   "name": "python",
   "nbconvert_exporter": "python",
   "pygments_lexer": "ipython3",
   "version": "3.10.1"
  }
 },
 "nbformat": 4,
 "nbformat_minor": 5
}
