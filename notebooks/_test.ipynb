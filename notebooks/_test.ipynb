{
 "cells": [
  {
   "cell_type": "code",
   "execution_count": 1,
   "source": [
    "import requests"
   ],
   "outputs": [],
   "metadata": {}
  },
  {
   "cell_type": "code",
   "execution_count": 5,
   "source": [
    "URL = \"http://localhost:5100/portfolio/investor/portfolio_overlap?is_detailed=0&date=2022-03-31&account_id=744&account_id=742&account_id=741&account_id=740&account_id=743&account_id=745&account_id=746&plan_id=7&benchmark_id=212&export=1\""
   ],
   "outputs": [],
   "metadata": {}
  },
  {
   "cell_type": "code",
   "execution_count": 6,
   "source": [
    "headers = dict()\r\n",
    "# Following is Vijay's user id\r\n",
    "headers[\"X_User_Id\"] = str(10201)"
   ],
   "outputs": [],
   "metadata": {}
  },
  {
   "cell_type": "code",
   "execution_count": 15,
   "source": [
    "resp = requests.get(URL, headers=headers)\r\n",
    "\r\n",
    "resp.status_code\r\n",
    "\r\n",
    "# j = resp.json()"
   ],
   "outputs": [
    {
     "output_type": "execute_result",
     "data": {
      "text/plain": [
       "200"
      ]
     },
     "metadata": {},
     "execution_count": 15
    }
   ],
   "metadata": {}
  },
  {
   "cell_type": "code",
   "execution_count": 24,
   "source": [
    "j[\"trailing_returns\"]"
   ],
   "outputs": [
    {
     "output_type": "execute_result",
     "data": {
      "text/plain": [
       "[{'benchmark_name': 'Nifty Private Bank TRI',\n",
       "  'inception_date': '25 Jan 2010',\n",
       "  'plan_id': 7,\n",
       "  'plan_name': 'ASK - IEP',\n",
       "  'returns': {'bm_ret_1m': 4.19,\n",
       "   'bm_ret_1y': 20.88,\n",
       "   'bm_ret_2y': 46.12,\n",
       "   'bm_ret_3m': -0.49,\n",
       "   'bm_ret_3y': 15.64,\n",
       "   'bm_ret_5y': 13.4,\n",
       "   'bm_ret_6m': -1.01,\n",
       "   'bm_ret_ince': 10.95,\n",
       "   'scheme_ret_1m': 2.23,\n",
       "   'scheme_ret_1y': 20.9,\n",
       "   'scheme_ret_2y': 42.77,\n",
       "   'scheme_ret_3m': -3.83,\n",
       "   'scheme_ret_3y': 18.7,\n",
       "   'scheme_ret_5y': 16.1,\n",
       "   'scheme_ret_6m': -2.76,\n",
       "   'scheme_ret_ince': 19.02}},\n",
       " {'inception_date': '',\n",
       "  'plan_id': 212,\n",
       "  'plan_name': 'Nifty Private Bank TRI',\n",
       "  'returns': {'bm_ret_1m': -3.24,\n",
       "   'bm_ret_1y': -0.42,\n",
       "   'bm_ret_3m': 1.14,\n",
       "   'bm_ret_3y': 9.11,\n",
       "   'bm_ret_5y': 9.11,\n",
       "   'bm_ret_6m': -2.21,\n",
       "   'scheme_ret_1m': 6.15,\n",
       "   'scheme_ret_1y': 28.19,\n",
       "   'scheme_ret_3m': -0.86,\n",
       "   'scheme_ret_3y': 64.19,\n",
       "   'scheme_ret_5y': 170.44,\n",
       "   'scheme_ret_6m': -2.91}}]"
      ]
     },
     "metadata": {},
     "execution_count": 24
    }
   ],
   "metadata": {}
  },
  {
   "cell_type": "code",
   "execution_count": 20,
   "source": [
    "j[\"trailing_returns\"]"
   ],
   "outputs": [
    {
     "output_type": "execute_result",
     "data": {
      "text/plain": [
       "[{'benchmark_name': 'Nifty Private Bank TRI',\n",
       "  'inception_date': '25 Jan 2010',\n",
       "  'plan_id': 7,\n",
       "  'plan_name': 'ASK - IEP',\n",
       "  'returns': {'bm_ret_1m': 4.19,\n",
       "   'bm_ret_1y': 20.88,\n",
       "   'bm_ret_2y': 46.12,\n",
       "   'bm_ret_3m': -0.49,\n",
       "   'bm_ret_3y': 15.64,\n",
       "   'bm_ret_5y': 13.4,\n",
       "   'bm_ret_6m': -1.01,\n",
       "   'bm_ret_ince': 10.95,\n",
       "   'scheme_ret_1m': 2.23,\n",
       "   'scheme_ret_1y': 20.9,\n",
       "   'scheme_ret_2y': 42.77,\n",
       "   'scheme_ret_3m': -3.83,\n",
       "   'scheme_ret_3y': 18.7,\n",
       "   'scheme_ret_5y': 16.1,\n",
       "   'scheme_ret_6m': -2.76,\n",
       "   'scheme_ret_ince': 19.02}},\n",
       " {'inception_date': '',\n",
       "  'plan_id': 212,\n",
       "  'plan_name': 'Nifty Private Bank TRI',\n",
       "  'returns': {'bm_ret_1m': -3.24,\n",
       "   'bm_ret_1y': -0.42,\n",
       "   'bm_ret_3m': 1.14,\n",
       "   'bm_ret_3y': 9.11,\n",
       "   'bm_ret_5y': 9.11,\n",
       "   'bm_ret_6m': -2.21,\n",
       "   'scheme_ret_1m': 6.151050907826054,\n",
       "   'scheme_ret_1y': 28.193367366394078,\n",
       "   'scheme_ret_3m': -0.8609211785749514,\n",
       "   'scheme_ret_3y': 64.18782693464703,\n",
       "   'scheme_ret_5y': 170.4408133050878,\n",
       "   'scheme_ret_6m': -2.9082810245097552}}]"
      ]
     },
     "metadata": {},
     "execution_count": 20
    }
   ],
   "metadata": {}
  },
  {
   "cell_type": "code",
   "execution_count": null,
   "source": [],
   "outputs": [],
   "metadata": {}
  }
 ],
 "metadata": {
  "orig_nbformat": 4,
  "language_info": {
   "name": "python",
   "version": "3.10.1",
   "mimetype": "text/x-python",
   "codemirror_mode": {
    "name": "ipython",
    "version": 3
   },
   "pygments_lexer": "ipython3",
   "nbconvert_exporter": "python",
   "file_extension": ".py"
  },
  "kernelspec": {
   "name": "python3",
   "display_name": "Python 3.10.1 64-bit"
  },
  "interpreter": {
   "hash": "19e1a96e3436bd1f8f2e2597c16fddcda1e65ab3feb920aaa4f84fb6aaee0dc7"
  }
 },
 "nbformat": 4,
 "nbformat_minor": 2
}