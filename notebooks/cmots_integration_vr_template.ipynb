{
 "cells": [
  {
   "cell_type": "code",
   "execution_count": 45,
   "id": "9da5827e-7ab6-448b-9d59-483e37a709f8",
   "metadata": {},
   "outputs": [],
   "source": [
    "import pandas as pd\n",
    "import os\n",
    "import datetime\n",
    "import json\n",
    "from functools import reduce"
   ]
  },
  {
   "cell_type": "code",
   "execution_count": 32,
   "id": "850969e0-f1bc-47c1-ba1d-c646b2a9e6f2",
   "metadata": {},
   "outputs": [
    {
     "data": {
      "text/plain": [
       "'C:\\\\dev\\\\backend\\\\tasks\\\\samples\\\\cmots\\\\07122022'"
      ]
     },
     "execution_count": 32,
     "metadata": {},
     "output_type": "execute_result"
    }
   ],
   "source": [
    "ROOT_DIR = r\"C:\\dev\\backend\\tasks\\samples\\cmots\"\n",
    "asof_date = datetime.date(2022, 12, 7)\n",
    "DIR_PATH = os.path.join(ROOT_DIR, asof_date.strftime(\"%d%m%Y\"))\n",
    "\n",
    "DIR_PATH"
   ]
  },
  {
   "cell_type": "code",
   "execution_count": 33,
   "id": "ba25dfea-5ced-4c20-8994-b41f2b070450",
   "metadata": {},
   "outputs": [],
   "source": [
    "def get_df(dir_path, file_name, asof_date, lst_col, lst_drop_col):\n",
    "    file_name = os.path.join(dir_path, file_name)\n",
    "    print(file_name)\n",
    "    if os.path.isfile(file_name):\n",
    "        print('Reading the file into df...')\n",
    "        df = pd.read_csv(file_name, sep ='|', names=lst_col, encoding= 'unicode_escape' )\n",
    "        df.iloc[:, -1] = df.iloc[:, -1].str.split('<</EOR>>', expand=True)\n",
    "        # print(df.head())\n",
    "        df = df.drop(lst_drop_col, axis=1)\n",
    "    else:\n",
    "        df = pd.DataFrame()\n",
    "    return df"
   ]
  },
  {
   "cell_type": "code",
   "execution_count": 34,
   "id": "952b6282",
   "metadata": {},
   "outputs": [],
   "source": [
    "# Scheme Master VR mapping\n",
    "scm_json_file = os.path.join(ROOT_DIR, \"scheme_master.json\")\n",
    "scm_mapping = None\n",
    "\n",
    "# opening JSON file\n",
    "with open(scm_json_file) as json_file:\n",
    "    scm_mapping = json.load(json_file)\n",
    "    \n",
    "# print the type of scm_mapping variable\n",
    "# print(\"Type: \", type(scm_mapping))\n",
    "# scm_mapping"
   ]
  },
  {
   "cell_type": "code",
   "execution_count": 35,
   "id": "e154cfeb",
   "metadata": {},
   "outputs": [
    {
     "name": "stdout",
     "output_type": "stream",
     "text": [
      "C:\\dev\\backend\\tasks\\samples\\cmots\\07122022\\dbdmfsch.csv\n",
      "Reading the file into df...\n"
     ]
    }
   ],
   "source": [
    "# get data for scheme master\n",
    "# 1] dbdmfsch.csv\n",
    "lst_col = [\"MF_COCODE\",\"MF_SCHCODE\",\"SC_CODE\",\"INIT_PRICE\",\"OFFERPRICE\",\"SCHEME\",\"SCHTYPCODE\",\n",
    "                \"LAUNC_DATE\",\"CLDATE\",\"INCDATE\" ,\"SIZE\",\"SIZE_DATE\",\"DIVPAYINT\",\"REDEM_DATE\",\"FUNDCODE\",\n",
    "                \"FORM_AVAIL\",\"LIST_UNLST\",\"SECTCODE\",\"AMT_RAISED\",\"OBJECTIVE\",\"MININVT\",\"INC_INVEST\",\n",
    "                \"PURREDEM\",\"NAVCALC\",\"TAXBCODE\",\"SPFEATURE\",\"SCHCLCODE\",\"NOTES\",\"FLAG\"]\n",
    "lst_used = [\"MF_COCODE\",\"MF_SCHCODE\",\"FUNDCODE\",\"LAUNC_DATE\",\"CLDATE\",\"PURREDEM\",\"INC_INVEST\",\"MININVT\"]\n",
    "lst_drop = [item for item in lst_col if item not in lst_used]\n",
    "\n",
    "df_dbdmfsch = get_df(DIR_PATH, \"dbdmfsch.csv\", asof_date, lst_col, lst_drop)\n",
    "#df_dbdmfsch.head()\n",
    "#df_dbdmfsch.PURREDEM.unique()\n"
   ]
  },
  {
   "cell_type": "code",
   "execution_count": 36,
   "id": "23881cf6",
   "metadata": {},
   "outputs": [
    {
     "name": "stdout",
     "output_type": "stream",
     "text": [
      "C:\\dev\\backend\\tasks\\samples\\cmots\\07122022\\dbdindic.csv\n",
      "Reading the file into df...\n",
      "C:\\dev\\backend\\tasks\\samples\\cmots\\07122022\\dbdbmim.csv\n",
      "Reading the file into df...\n"
     ]
    }
   ],
   "source": [
    "# 2] \n",
    "# a] dbdindic.csv\n",
    "lst_col = [\"MF_COCODE\",\"MF_SCHCODE\",\"BMCODE\",\"FLAG\"]\n",
    "df_dbdindic = get_df(DIR_PATH, \"dbdindic.csv\", asof_date, lst_col, [])\n",
    "df_dbdindic = df_dbdindic[df_dbdindic.FLAG != 'D'] # remove records with FLAG == D\n",
    "#print(df_dbdindic.head())\n",
    "\n",
    "# b] dbdbmim.csv\n",
    "lst_col = [\"BMCODE\",\"CO_CODE\",\"SC_CODE\",\"SC_NAME\",\"FLAG\"]\n",
    "lst_used = [\"BMCODE\",\"SC_NAME\",\"FLAG\"]\n",
    "lst_drop = [item for item in lst_col if item not in lst_used]\n",
    "df_dbdbmim = get_df(DIR_PATH, \"dbdbmim.csv\", asof_date, lst_col, lst_drop)\n",
    "df_dbdbmim = df_dbdbmim[df_dbdbmim.FLAG != 'D'] # remove records with FLAG == D\n",
    "#print(df_dbdbmim.head())\n",
    "\n",
    "df_bmk = pd.merge(df_dbdindic, df_dbdbmim, on=\"BMCODE\", how=\"left\")\n",
    "df_bmk = df_bmk[[\"MF_COCODE\",\"MF_SCHCODE\",\"SC_NAME\"]]\n",
    "#df_bmk.head()"
   ]
  },
  {
   "cell_type": "code",
   "execution_count": 37,
   "id": "0efa3006",
   "metadata": {},
   "outputs": [
    {
     "name": "stdout",
     "output_type": "stream",
     "text": [
      "C:\\dev\\backend\\tasks\\samples\\cmots\\07122022\\schclass.csv\n",
      "Reading the file into df...\n"
     ]
    }
   ],
   "source": [
    "# 3] schclass.csv\n",
    "lst_col = [\"MF_COCODE\",\"MF_SCHCODE\",\"SCH_NAME\",\"MCLASSCODE\",\"MCLASS\",\"SCHEME\",\"SCHTYPCODE\",\n",
    "           \"SCH_TYPE\",\"CLASS\",\"CLASS1\",\"PLAN\",\"DIVFRQ\",\"SECTOR\",\"VCLASSCODE\",\"VCLASS\",\"FLAG\"]\n",
    "lst_used = [\"MF_COCODE\",\"MF_SCHCODE\",\"CLASS\"]\n",
    "lst_drop = [item for item in lst_col if item not in lst_used]\n",
    "df_schclass = get_df(DIR_PATH, \"schclass.csv\", asof_date, lst_col, lst_drop)\n",
    "#df_schclass = df_schclass[df_schclass.FLAG != 'D'] # remove records with FLAG == D, FLAG is not used as per doc\n",
    "#df_schclass.head()"
   ]
  },
  {
   "cell_type": "code",
   "execution_count": 38,
   "id": "da2d88b7",
   "metadata": {},
   "outputs": [
    {
     "name": "stdout",
     "output_type": "stream",
     "text": [
      "C:\\dev\\backend\\tasks\\samples\\cmots\\07122022\\DBDPLIV2.csv\n",
      "Reading the file into df...\n"
     ]
    }
   ],
   "source": [
    "# 4] DBDPLIV2.csv\n",
    "lst_col = [\"MF_COCODE\",\"MF_SCHCODE\",\"PLAN\",\"AVAIL\",\n",
    "           \"D1\",\"D2\",\"D3\",\"D4\",\"D5\",\"D6\",\"D7\",\"D8\",\"D9\",\"D10\",\"ANY\",\"OTHERS\",\"FLAG\"]\n",
    "lst_used = [\"MF_COCODE\",\"MF_SCHCODE\",\"PLAN\",\"AVAIL\",\"FLAG\"]\n",
    "lst_drop = [item for item in lst_col if item not in lst_used]\n",
    "df_DBDPLIV2 = get_df(DIR_PATH, \"DBDPLIV2.csv\", asof_date, lst_col, lst_drop)\n",
    "df_DBDPLIV2 = df_DBDPLIV2[df_DBDPLIV2.FLAG != 'D'] # remove records with FLAG == D\n",
    "#df_DBDPLIV2.head()"
   ]
  },
  {
   "cell_type": "code",
   "execution_count": 39,
   "id": "e5f8c2b0",
   "metadata": {},
   "outputs": [
    {
     "name": "stdout",
     "output_type": "stream",
     "text": [
      "C:\\dev\\backend\\tasks\\samples\\cmots\\07122022\\mfcat.csv\n",
      "Reading the file into df...\n"
     ]
    }
   ],
   "source": [
    "# 5] mfcat.csv\n",
    "lst_col = [\"MF_COCODE\",\"GRPCODE\",\"MF_SCHCODE\",\"GRPNAME\",\"MF_SCHNAME\",\n",
    "           \"PLANNAME\",\"MPLANNAME\",\"OPTIONNAME\",\"MOPTIONNAME\"]\n",
    "lst_used = [\"MF_COCODE\",\"MF_SCHCODE\",\"GRPCODE\",\"GRPNAME\",\"MF_SCHNAME\",\n",
    "            \"PLANNAME\",\"MPLANNAME\",\"OPTIONNAME\",\"MOPTIONNAME\"]\n",
    "lst_drop = [item for item in lst_col if item not in lst_used]\n",
    "df_mfcat = get_df(DIR_PATH, \"mfcat.csv\", asof_date, lst_col, lst_drop)\n",
    "#df_mfcat.head()"
   ]
  },
  {
   "cell_type": "code",
   "execution_count": 40,
   "id": "a814284a",
   "metadata": {},
   "outputs": [
    {
     "name": "stdout",
     "output_type": "stream",
     "text": [
      "C:\\dev\\backend\\tasks\\samples\\cmots\\07122022\\mfisin_all.csv\n",
      "Reading the file into df...\n"
     ]
    }
   ],
   "source": [
    "# 6] mfisin_all.csv\n",
    "lst_col = [\"MF_SCHCODE\",\"ISIN\"]\n",
    "lst_used = [\"MF_SCHCODE\",\"ISIN\"]\n",
    "lst_drop = [item for item in lst_col if item not in lst_used]\n",
    "df_mfisin_all = get_df(DIR_PATH, \"mfisin_all.csv\", asof_date, lst_col, lst_drop)\n",
    "#df_mfisin_all.head()"
   ]
  },
  {
   "cell_type": "code",
   "execution_count": 41,
   "id": "bfb25b6c",
   "metadata": {},
   "outputs": [
    {
     "name": "stdout",
     "output_type": "stream",
     "text": [
      "C:\\dev\\backend\\tasks\\samples\\cmots\\07122022\\amfimaster.csv\n",
      "Reading the file into df...\n"
     ]
    }
   ],
   "source": [
    "# 7] amfimaster.csv\n",
    "lst_col = [\"MF_COCODE\",\"MF_SCHCODE\",\"SRNO\",\"SCH_NAME\",\"AMFICODE\",\"FLAG\"]\n",
    "lst_used = [\"MF_COCODE\",\"MF_SCHCODE\",\"AMFICODE\",\"SCH_NAME\"]\n",
    "lst_drop = [item for item in lst_col if item not in lst_used]\n",
    "df_amfimaster = get_df(DIR_PATH, \"amfimaster.csv\", asof_date, lst_col, lst_drop)\n",
    "#df_amfimaster.head()"
   ]
  },
  {
   "cell_type": "code",
   "execution_count": 42,
   "id": "8f989fe6",
   "metadata": {},
   "outputs": [
    {
     "name": "stdout",
     "output_type": "stream",
     "text": [
      "C:\\dev\\backend\\tasks\\samples\\cmots\\07122022\\catmas_sebi.csv\n",
      "Reading the file into df...\n"
     ]
    }
   ],
   "source": [
    "# 8] catmas_sebi.csv\n",
    "lst_col = [\"MF_SCHCODE\",\"CATCODE\",\"CATNAME\",\"SUBCATCODE\",\"SUBCATNAME\"]\n",
    "lst_used = [\"MF_SCHCODE\",\"CATCODE\",\"CATNAME\",\"SUBCATCODE\",\"SUBCATNAME\"]\n",
    "lst_drop = [item for item in lst_col if item not in lst_used]\n",
    "df_catmas_sebi = get_df(DIR_PATH, \"catmas_sebi.csv\", asof_date, lst_col, lst_drop)\n",
    "#df_catmas_sebi.head()"
   ]
  },
  {
   "cell_type": "code",
   "execution_count": 50,
   "id": "d15ebac8-b370-49ce-b592-307460696c01",
   "metadata": {},
   "outputs": [],
   "source": [
    "# Join all the df above\n",
    "df_list = [df_dbdmfsch, df_bmk, df_schclass, df_DBDPLIV2, df_mfcat, df_mfisin_all, df_amfimaster, df_catmas_sebi]\n",
    "\n",
    "df_dbdmfsch = df_dbdmfsch.merge(df_bmk[[\"MF_SCHCODE\",\"SC_NAME\"]], on=\"MF_SCHCODE\", how='left')\n",
    "\n",
    "df_dbdmfsch = df_dbdmfsch.merge(df_schclass[[\"MF_SCHCODE\",\"CLASS\"]], on=\"MF_SCHCODE\", how='left')\n",
    "\n",
    "df_dbdmfsch = df_dbdmfsch.merge(df_DBDPLIV2[[\"MF_SCHCODE\",\"PLAN\",\"AVAIL\"]], on=\"MF_SCHCODE\", how='left')\n",
    "\n",
    "df_dbdmfsch = df_dbdmfsch.merge(df_mfcat[[\"MF_SCHCODE\",\"GRPNAME\",\"MF_SCHNAME\",\n",
    "                                          \"PLANNAME\",\"MPLANNAME\",\"OPTIONNAME\",\"MOPTIONNAME\"]], on=\"MF_SCHCODE\", how='left')\n",
    "\n",
    "df_dbdmfsch = df_dbdmfsch.merge(df_mfisin_all, on=\"MF_SCHCODE\", how='left')\n",
    "\n",
    "df_dbdmfsch = df_dbdmfsch.merge(df_amfimaster[[\"MF_SCHCODE\",\"AMFICODE\",\"SCH_NAME\"]], on=\"MF_SCHCODE\", how='left')\n",
    "\n",
    "df_dbdmfsch = df_dbdmfsch.merge(df_catmas_sebi[[\"MF_SCHCODE\",\"CATNAME\",\"SUBCATNAME\"]], on=\"MF_SCHCODE\", how='left')\n",
    "\n",
    "df_dbdmfsch.to_csv(r\"C:\\dev\\backend\\tasks\\samples\\cmots\\Merged.csv\")\n"
   ]
  },
  {
   "cell_type": "code",
   "execution_count": null,
   "id": "62318644-e8f7-4f84-9efb-fdbaa1f4b962",
   "metadata": {},
   "outputs": [],
   "source": [
    "dbdfundm = get_df(DIR_PATH, \"dbdfundm.csv\", target_date, [\"FUNDCODE\", \"FUND_MGR\", \"FLAG\"], [])\n",
    "dbdprof = get_df( DIR_PATH, \"dbdprof.csv\", target_date, [\"FUNDCODE\", \"QUAL\", \"DESIG\", \"EXPERIENCE\", \"REMARKS\", \"FLAG\"], [])\n",
    "mffundmgr = get_df( DIR_PATH, \"mffundmgr.csv\", target_date, [\"mf_schcode\", \"fundcode\", \"fund_mgr\"], [])\n",
    "\n",
    "fund_manager= pd.merge(dbdfundm.drop(\"FLAG\", axis=1), dbdprof.drop(\"FLAG\", axis=1), how=\"outer\", left_on=\"FUNDCODE\", right_on=\"FUNDCODE\")"
   ]
  },
  {
   "cell_type": "code",
   "execution_count": null,
   "id": "dcbd00f3-eec2-492c-874e-913fc10f4962",
   "metadata": {},
   "outputs": [],
   "source": [
    "dbdbmim = get_df( DIR_PATH, \"dbdbmim.csv\", target_date, [\"BMCODE\", \"CO_CODE\", \"SC_CODE\", \"SC_NAME\", \"FLAG\"], [\"SC_CODE\", \"FLAG\"])\n",
    "dbdindic = get_df( DIR_PATH, \"dbdindic.csv\", target_date, [\"MF_COCODE\", \"MF_SCHCODE\", \"BMCODE\", \"FLAG\"], [\"FLAG\"])\n",
    "bm = pd.merge(dbdindic, dbdbmim, how=\"left\", on=\"BMCODE\")\n",
    "\n",
    "catmas_sebi = get_df( DIR_PATH, \"catmas_sebi.csv\", target_date, [\"mf_schcode\", \"catcode\", \"catname\", \"subcatcode\", \"subcatname\"], [])\n",
    "mfriskometer = get_df( DIR_PATH, \"mfriskometer.csv\", target_date, [\"mf_schcode\", \"riskometercode\", \"riskometervalue\"], [])\n",
    "mfisin_all = get_df( DIR_PATH, \"mfisin_all.csv\", target_date, [\"mf_schcode\", \"ISIN\"], [])\n",
    "mfdirindir = get_df( DIR_PATH, \"mfdirindir.csv\", target_date, [\"mf_schcode\", \"investment\"], [])\n",
    "\n",
    "schclass = get_df( DIR_PATH, \"schclass.csv\", target_date, \n",
    "                  [\"MF_COCODE\", \"MF_SCHCODE\", \"SCH_NAME\", \"MCLASSCODE\", \"MCLASS\", \"SCHEME\", \"SCHTYPCODE\", \"SCH_TYPE\", \"CLASS\", \"CLASS1\", \n",
    "                   \"PLAN\", \"DIVFRQ\", \"SECTOR\", \"VCLASSCODE\", \"VCLASS\", \"flag\"], \n",
    "                  [\"MCLASSCODE\", \"MCLASS\", \"CLASS1\", \"SECTOR\", \"flag\"]\n",
    "                 )\n",
    "amfimaster = get_df(DIR_PATH, \"amfimaster.csv\", target_date, \n",
    "                    [\"MF_COCODE\", \"MF_SCHCODE\", \"SRNO\", \"SCH_NAME\", \"AMFICODE\", \"FLAG\"], \n",
    "                    [\"SRNO\", \"FLAG\"])\n",
    "mfcat = get_df( DIR_PATH, \"mfcat.csv\", target_date, \n",
    "               [\"MF_COCODE\", \"GRPCODE\", \"MF_SCHCODE\", \"GRPNAME\", \"MF_SCHNAME\", \"PLANNAME\", \"MPLANNAME\", \"OPTIONNAME\", \"MOPTIONNAME\"],\n",
    "               [])\n",
    "d = pd.merge(catmas_sebi, mfriskometer, how=\"left\", on=[\"mf_schcode\"])\n",
    "d = pd.merge(d, mfisin_all, how=\"left\", on=[\"mf_schcode\"])\n",
    "d = pd.merge(d, mfdirindir, how=\"left\", on=[\"mf_schcode\"])\n",
    "\n",
    "d1 = pd.merge(schclass, amfimaster, how=\"left\", on=[\"MF_COCODE\", \"MF_SCHCODE\", \"SCH_NAME\"])\n",
    "mfcat = mfcat.drop([\"MF_SCHNAME\"], axis=1)\n",
    "\n",
    "d1 = pd.merge(d1, mfcat, how=\"left\", on=[\"MF_COCODE\", \"MF_SCHCODE\"])\n",
    "\n",
    "plans = pd.merge(d1, d, how=\"left\", left_on=\"MF_SCHCODE\",right_on=\"mf_schcode\")\n",
    "plans = plans.drop([\"mf_schcode\"], axis=1)\n",
    "plans = pd.merge(plans, bm, how=\"left\", on=[\"MF_COCODE\", \"MF_SCHCODE\"])"
   ]
  },
  {
   "cell_type": "code",
   "execution_count": null,
   "id": "cb163625-a42d-4162-a0cc-427e30acf8f6",
   "metadata": {},
   "outputs": [],
   "source": [
    "dbdprice = get_df( DIR_PATH, \"dbdprice.csv\", target_date, \n",
    "                  [\"MF_COCODE\", \"MF_SCHCODE\", \"SCHTYPCODE\", \"NAVDATE\", \"NAVRS\", \"ADJNAVRS\", \"NAVREPRICE\", \"NAVSAPRICE\", \"NAVLSPRICE\", \"RC\", \"SC\", \"FLAG\"],\n",
    "                  [\"NAVLSPRICE\", \"RC\", \"SC\"])\n",
    "\n",
    "dbdprice_n = get_df( DIR_PATH, \"dbdprice_n.csv\", target_date, \n",
    "                  [\"MF_COCODE\", \"MF_SCHCODE\", \"SCHTYPCODE\", \"NAVDATE\", \"NAVRS\", \"ADJNAVRS\", \"NAVREPRICE\", \"NAVSAPRICE\", \"NAVLSPRICE\", \"RC\", \"SC\", \"FLAG\"],\n",
    "                  [\"NAVLSPRICE\", \"RC\", \"SC\"])\n",
    "\n",
    "nav = dbdprice\n",
    "nav_n = dbdprice_n"
   ]
  },
  {
   "cell_type": "code",
   "execution_count": null,
   "id": "f7aafa9f-b23f-4a13-8b00-4d8f279cc01d",
   "metadata": {},
   "outputs": [],
   "source": [
    "dbdpfoli = get_df( DIR_PATH, \"dbdpfoli.csv\", target_date, \n",
    "                  [\"MF_COCODE\", \"MF_SCHCODE\", \"SCHTYPCODE\", \"INVDATE\", \"TYPECODE\", \"STYPECODE\", \"DEBTYPCODE\", \"RATINGCODE\", \"RATING\", \"PERIOD\", \n",
    "                   \"PEROFCODE\", \"TOTNAV\", \"MKTVALUE\", \"REPSECTOR\", \"INV_NO\", \"CO_CODE\", \"CO_NAME\", \"NO_SHARES\", \"PERC_HOLD\", \"INTPER\", \"EDATE\",\n",
    "                   \"GROUP\", \"COMCODE\", \"COMNAME\", \"TCODE\", \"TNAME\", \"TOPPF\", \"FLAG\"], \n",
    "                  [\"STYPECODE\", \"DEBTYPCODE\", \"PEROFCODE\", \n",
    "                   \"EDATE\", \"GROUP\", \"TOPPF\"])\n",
    "\n",
    "dbdnptm = get_df( DIR_PATH, \"dbdnptm.csv\", target_date, \n",
    "                 [\"COMCODE\", \"COMNAME\", \"TYPECODE\", \"TYPE\", \"SUBCODE\", \"SUBTYPNAME\", \"DEBTYPCODE\", \"DEBTYPE\", \n",
    "                  \"LEV1\", \"LEV2\", \"LEV3\", \"OLD1\", \"OLD2\", \"OLD3\"],\n",
    "                 [\"LEV1\", \"LEV2\", \"LEV3\", \"OLD1\", \"OLD2\", \"OLD3\"])\n",
    "\n",
    "dbdderiv = get_df( DIR_PATH, \"dbdderiv.csv\", target_date, \n",
    "                  [\"MF_COCODE\", \"MF_SCHCODE\", \"SCHTYPCODE\", \"INVDATE\", \"TYPECODE\", \"STYPECODE\", \"DEBTYPCODE\", \"RATINGCODE\", \"RATING\", \"PERIOD\", \n",
    "                   \"PEROFCODE\", \"TOTNAV\", \"MKTVALUE\", \"REPSECTOR\", \"INV_NO\", \"CO_CODE\", \"CO_NAME\", \"NO_SHARES\", \"PERC_HOLD\", \"INTPER\", \n",
    "                   \"COMCODE\", \"COMNAME\", \"TCODE\", \"TNAME\", \"FLAG\"], \n",
    "                  [\"STYPECODE\", \"DEBTYPCODE\", \"RATINGCODE\", \"RATING\",\n",
    "                   \"PEROFCODE\", \"INTPER\", \"TCODE\", \"TNAME\", \"FLAG\"])\n",
    "\n",
    "# Derivatives are not used as of now\n",
    "holdings = pd.merge(dbdpfoli, dbdnptm, how=\"left\", on=[\"TYPECODE\", \"COMCODE\"])"
   ]
  },
  {
   "cell_type": "code",
   "execution_count": null,
   "id": "e0fa8e01-f1ba-42e1-9a8f-7fd657c24632",
   "metadata": {},
   "outputs": [],
   "source": [
    "# cardv = get_df( DIR_PATH, \"cardv.csv\", target_date, \n",
    "#                [ \"DATE\", \"SCHCLCODE\", \"SCHCLASS\", \"1DAYMAX\", \"1DAYMIN\", \"1DAYAVG\", \"WEEKMAX\", \"WEEKMIN\", \"WEEKAVG\", \"1MMAX\", \"1MMIN\", \"1MAVG\", \n",
    "#                 \"3MMAX\", \"3MMIN\", \"3MAVG\", \"6MMAX\", \"6MIN\", \"6MAVG\", \"1YRMAX\", \"1YRMIN\", \"1YRAVG\", \"3YRMAX\", \"3YRMIN\", \"3YRAVG\", \n",
    "#                 \"5YRMAX\", \"5YRMIN\", \"5YRAVG\", \"INCMAX\", \"INCMIN\", \"INCAVG\"],\n",
    "#                [ \"1DAYMAX\", \"1DAYMIN\", \"WEEKMAX\", \"WEEKMIN\", \"1MMAX\", \"1MMIN\", \"3MMAX\", \"3MMIN\", \"6MMAX\", \"6MIN\", \"1YRMAX\", \"1YRMIN\", \n",
    "#                 \"3YRMAX\", \"3YRMIN\", \"5YRMAX\", \"5YRMIN\", \"INCMAX\", \"INCMIN\"\n",
    "#                ]\n",
    "#               )\n",
    "\n",
    "# catmas = get_df(DIR_PATH, \"catmas.csv\", target_date, [\"VCLASSCODE\", \"VCLASS\", \"AssetType1\", \"AssetType2\"], [])\n",
    "\n",
    "# dbddiv = get_df( DIR_PATH, \"dbddiv.csv\", target_date, [\n",
    "#     \"MF_COCODE\", \"MF_SCHCODE\", \"SCHTYPCODE\", \"DIVTYPCODE\", \"DIVTYPE\", \"NAVREFDATE\", \"BONUSRATE1\", \"BONUSRATE2\", \"DIVDATE\", \"DIVPER\", \n",
    "#     \"CDIVPER\", \"NCDIVPER\", \"EXNAV\", \"DIVAMT\", \"DIVACPER\", \"DIVACPDATE\", \"DIVACP\", \"DIVACFDATE\", \"DIVPERPU\", \"RECORDDATE\", \"REMARK\", \n",
    "#     \"INTDATE\", \"FV\", \"FLAG\"],\n",
    "#                [\"EXNAV\", \"DIVAMT\", \"DIVACPDATE\", \"DIVACFDATE\", \"INTDATE\"]\n",
    "#                )\n",
    "\n",
    "# dbddivtm = get_df( DIR_PATH, \"dbddivtm.csv\", target_date, [\n",
    "#     \"DIVTYPCODE\", \"DIVTYPE\", \"FLAG\"],\n",
    "#                   []\n",
    "#                  )\n",
    "\n",
    "# dbdaum = get_df( DIR_PATH, \"dbdaum.csv\", target_date, [\n",
    "#     \"MF_COCODE\", \"MF_SCHCODE\", \"AMCDATE\", \"AMCSIZE\", \"FLAG\"\n",
    "# ], [])\n",
    "\n",
    "# dbdexpr = get_df( DIR_PATH, \"dbdexpr.csv\", target_date, [\n",
    "#     \"MF_COCODE\", \"MF_SCHCODE\", \"ERDATE\", \"EXPRATIO\", \"EXPAMT\", \"UNITCAP\", \"NOOFUNITS\", \"FLAG\"\n",
    "# ], [])\n",
    "\n",
    "# latnav = get_df( DIR_PATH, \"latnav.csv\", target_date, \n",
    "#                 [\"MF_SCHCODE\",\"NAVDATE\",\"NAVRS\",\"NAVREPRICE\",\"NAVSAPRICE\",\"NAVLSPRICE\",\"CLDATE\",\"SCH_NAME\",\"LNAME\",\"CO_CODE\"], \n",
    "#                 [\"NAVLSPRICE\",\"CLDATE\",\"LNAME\"])\n",
    "\n",
    "# latnav_n = get_df( DIR_PATH, \"latnav_n.csv\", target_date, \n",
    "#                 [\"MF_SCHCODE\",\"NAVDATE\",\"NAVRS\",\"NAVREPRICE\",\"NAVSAPRICE\",\"NAVLSPRICE\",\"CLDATE\",\"SCH_NAME\",\"LNAME\",\"CO_CODE\"], \n",
    "#                 [\"NAVLSPRICE\",\"CLDATE\",\"LNAME\"])"
   ]
  },
  {
   "cell_type": "code",
   "execution_count": null,
   "id": "de22dafa-23d1-4836-ac22-bfe05451d1cf",
   "metadata": {},
   "outputs": [],
   "source": [
    "dbdload2 = get_df( DIR_PATH, \"dbdload2.csv\", target_date, [\n",
    "    \"MF_COCODE\", \"MF_SCHCODE\", \"LOADDATE\", \"LOADTYPE\", \"LOAD_NO\", \"FRDATE\", \"TODATE\", \"FRAMT\", \"UPTOAMT\", \"MINPERIOD\", \"MAXPERIOD\", \n",
    "    \"MIN\", \"MAX\", \"ENTRYLOAD\", \"EXITLOAD\", \"REMARKS\", \"FLAG\"],\n",
    "                 [])\n",
    "\n",
    "dbdmfsch = get_df( DIR_PATH, \"dbdmfsch.csv\", target_date, \n",
    "                  [\"MF_COCODE\", \"MF_SCHCODE\", \"SC_CODE\", \"INIT_PRICE\", \"OFFERPRICE\", \"SCHEME\", \"SCHTYPCODE\", \"LAUNC_DATE\", \"CLDATE\", \"INCDATE\", \n",
    "                   \"SIZE\", \"SIZE_DATE\", \"DIVPAYINT\", \"REDEM_DATE\", \"FUNDCODE\", \"FORM_AVAIL\", \"LIST_UNLST\", \"SECTCODE\", \"AMT_RAISED\", \"OBJECTIVE\", \n",
    "                   \"MININVT\", \"INC_INVEST\", \"PURREDEM\", \"NAVCALC\", \"TAXBCODE\", \"SPFEATURE\", \"SCHCLCODE\", \"NOTES\", \"FLAG\"], \n",
    "                  [\"SC_CODE\", \"FORM_AVAIL\", \"LIST_UNLST\", \"SECTCODE\", \"AMT_RAISED\", \"TAXBCODE\", \"SPFEATURE\", \"SCHCLCODE\"]\n",
    "                 )\n",
    "\n",
    "returns = get_df( DIR_PATH, \"return.csv\", target_date, \n",
    "                 [\"MF_COCODE\", \"MF_SCHCODE\", \"SCH_NAME\", \"DATE\", \"TODATE\", \"TONAV\", \"TONAVP\", \"PNAVFROM\", \"PNAV\", \"PNAVP\", \"PRET\", \n",
    "                  \"1WEEKFRM\", \"1WEEKNAV\", \"1WEEKNAVP\", \"1WEEK\", \"1MTHFRM\", \"1MTHNAV\", \"1MTHNAVP\", \"1MONTH\", \"3MTHFRM\", \"3MTHNAV\", \"3MTHNAVP\", \"3MONTH\", \n",
    "                  \"6MNTFROM\", \"6MNTNAV\", \"6MNTNAVP\", \"6MONTH\", \"1YRFROM\", \"1YRNAV\", \"1YRNAVP\", \"1YEAR\", \"3YRFROM\", \"3YRNAV\", \"3YRNAVP\", \"3YEAR\", \n",
    "                  \"5YRFROM\", \"5YRNAV\", \"5YRNAVP\", \"5YEAR\", \"INCFROM\", \"INCNAV\", \"INCEPTION\", \n",
    "                  \"FUNDSIZE\", \"SCHCLCODE\", \"CLASSNAME\", \"TYPECODE\", \"AMC_CODE\", \"AMCNAME\", \"NAVDATE\", \"NAVRS\", \"LAUNCHDT\"], \n",
    "                 [\"TONAVP\", \"PNAVFROM\", \"PNAV\", \"PNAVP\", \"PRET\", \"1WEEKNAVP\", \"1MTHNAVP\", \"3MTHNAVP\", \"6MNTNAVP\", \"1YRNAVP\", \"3YRNAVP\",\n",
    "                  \"5YRNAVP\", \"NAVDATE\", \"NAVRS\"]\n",
    "                )\n",
    "\n",
    "cardsebi = get_df( DIR_PATH, \"cardsebi.csv\", target_date, \n",
    "                  [\"DATE\", \"subcat_code\", \"subcate_name\", \"1DAYMAX\", \"1DAYMIN\", \"1DAYAVG\", \"WEEKMAX\", \"WEEKMIN\", \"WEEKAVG\", \"1MMAX\", \"1MMIN\", \"1MAVG\",\n",
    "                   \"3MMAX\", \"3MMIN\", \"3MAVG\", \"6MMAX\", \"6MIN\", \"6MAVG\", \"1YRMAX\", \"1YRMIN\", \"1YRAVG\", \"3YRMAX\", \"3YRMIN\", \"3YRAVG\", \n",
    "                   \"5YRMAX\", \"5YRMIN\", \"5YRAVG\", \"INCMAX\", \"INCMIN\", \"INCAVG\"], \n",
    "                  [\"1DAYMAX\", \"1DAYMIN\", \"WEEKMAX\", \"WEEKMIN\", \"1MMAX\", \"1MMIN\", \"3MMAX\", \"3MMIN\", \"6MMAX\", \"6MIN\", \"1YRMAX\", \"1YRMIN\",\n",
    "                   \"3YRMAX\", \"3YRMIN\", \"5YRMAX\", \"5YRMIN\", \"INCMAX\", \"INCMIN\"])\n",
    "\n",
    "dbdavgm = get_df( DIR_PATH, \"dbdavgm.csv\", target_date, [\n",
    "     \"MF_COCODE\", \"MF_SCHCODE\", \"SCHTYPCODE\", \"INVDATE\", \"AVG_MAT1\", \"AVG_MAT2\", \"YTM\", \"AVG_PF1\", \"AVG_PF2\", \"FLAG\"\n",
    "], [])\n",
    "\n",
    "dbdmprof = get_df( DIR_PATH, \"dbdmprof.csv\", target_date, [\n",
    "     \"MF_COCODE\", \"MF_SCHCODE\", \"INVDATE\", \"TYPECODE\", \"MAT_NO\", \"P1\", \"P2\", \"P3\", \"P4\", \"PERC_HOLD\", \"MKTVALUE\", \"FLAG\"\n",
    "], [])\n",
    "\n",
    "dbdptm = get_df( DIR_PATH, \"dbdptm.csv\", target_date, [\n",
    "    \"TYPECODE\", \"TYPE\", \"FLAG\"\n",
    "], [])\n",
    "\n",
    "dbdtor = get_df( DIR_PATH, \"dbdtor.csv\", target_date, [\n",
    "    \"MF_COCODE\", \"MF_SCHCODE\", \"BMCODE\", \"FLAG\"\n",
    "], [])\n",
    "\n",
    "dbdtor = get_df( DIR_PATH, \"dbdtor.csv\", target_date, [\n",
    "    \"mf_cocode\", \"mf_schcode\", \"torDate\", \"torRatio\", \"torTimes\", \"flag\"\n",
    "], [])\n",
    "\n",
    "DBDPLIV1 = get_df( DIR_PATH, \"DBDPLIV1.csv\", target_date, [\n",
    "    \"MF_COCODE\", \"MF_SCHCODE\", \"PLAN\", \"LOAD\", \"REMARK\", \"COTPURCH\", \"COTREDEM\", \"FLAG\"\n",
    "], [])\n",
    "\n",
    "DBDPLIV2 = get_df( DIR_PATH, \"DBDPLIV2.csv\", target_date, [\n",
    "    \"MF_COCODE\", \"MF_SCHCODE\", \"PLAN\", \"AVAIL\", \"D1\", \"D2\", \"D3\", \"D4\", \"D5\", \"D6\", \"D7\", \"D8\", \"D9\", \"D10\", \"ANY\", \"OTHERS\", \"FLAG\"\n",
    "], [])\n",
    "\n",
    "DBDPLIV3 = get_df( DIR_PATH, \"DBDPLIV3.csv\", target_date, [\n",
    "    \"MF_COCODE\", \"MF_SCHCODE\", \"PLAN\", \"FREQ\", \"SLNO\", \"MINAMT\", \"MINUNIT\", \"MULTAMT\", \"MULTUNIT\", \"INSTLMNT\", \"DURATION\", \"FLAG\"\n",
    "], [])\n",
    "\n",
    "amcsiz = get_df( DIR_PATH, \"amcsiz.csv\", target_date, [\n",
    "    \"MF_COCODE\", \"MF_SCHCODE\", \"INVDATE\", \"TOTNAV\", \"FLAG\"\n",
    "], [])\n",
    "\n",
    "DBDYTDER = get_df( DIR_PATH, \"DBDYTDER.csv\", target_date, [\n",
    "    \"MF_COCODE\", \"MF_SCHCODE\", \"YTDERDATE\", \"YTDER\", \"ER\", \"WAER\", \"FLAG\"\n",
    "], [])"
   ]
  },
  {
   "cell_type": "code",
   "execution_count": null,
   "id": "c0d88662-1d71-4db0-8d4b-150540a06c97",
   "metadata": {},
   "outputs": [],
   "source": [
    "plans"
   ]
  },
  {
   "cell_type": "code",
   "execution_count": null,
   "id": "0966e6e3-583b-42a8-8152-47e2323b2726",
   "metadata": {},
   "outputs": [],
   "source": [
    "cardsebi"
   ]
  },
  {
   "cell_type": "code",
   "execution_count": null,
   "id": "cb3f1494-4deb-462c-ba2c-df09a4a0fecf",
   "metadata": {},
   "outputs": [],
   "source": [
    "schclass"
   ]
  },
  {
   "cell_type": "code",
   "execution_count": null,
   "id": "e14b9a4b-a8b6-4fc2-886e-d42c9eb48d9c",
   "metadata": {},
   "outputs": [],
   "source": [
    "mfcat"
   ]
  },
  {
   "cell_type": "code",
   "execution_count": null,
   "id": "d48bff3f-a976-49c0-a12a-519908d9ec96",
   "metadata": {},
   "outputs": [],
   "source": []
  }
 ],
 "metadata": {
  "kernelspec": {
   "display_name": "Python 3 (ipykernel)",
   "language": "python",
   "name": "python3"
  },
  "language_info": {
   "codemirror_mode": {
    "name": "ipython",
    "version": 3
   },
   "file_extension": ".py",
   "mimetype": "text/x-python",
   "name": "python",
   "nbconvert_exporter": "python",
   "pygments_lexer": "ipython3",
   "version": "3.10.8"
  }
 },
 "nbformat": 4,
 "nbformat_minor": 5
}
