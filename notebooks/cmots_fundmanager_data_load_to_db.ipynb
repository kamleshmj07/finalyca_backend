{
 "cells": [
  {
   "cell_type": "code",
   "execution_count": 24,
   "id": "9da5827e-7ab6-448b-9d59-483e37a709f8",
   "metadata": {},
   "outputs": [],
   "source": [
    "import pandas as pd\n",
    "import os\n",
    "import datetime\n",
    "import json\n",
    "from functools import reduce"
   ]
  },
  {
   "cell_type": "code",
   "execution_count": 25,
   "id": "850969e0-f1bc-47c1-ba1d-c646b2a9e6f2",
   "metadata": {},
   "outputs": [
    {
     "data": {
      "text/plain": [
       "'C:\\\\dev\\\\backend\\\\tasks\\\\samples\\\\cmots\\\\22082023'"
      ]
     },
     "execution_count": 25,
     "metadata": {},
     "output_type": "execute_result"
    }
   ],
   "source": [
    "ROOT_DIR = r\"C:\\dev\\backend\\tasks\\samples\\cmots\"\n",
    "asof_date = datetime.date(2023, 8, 22)\n",
    "DIR_PATH = os.path.join(ROOT_DIR, asof_date.strftime(\"%d%m%Y\"))\n",
    "\n",
    "# Files needed to be refreshed from CMOTS ftp : dbdmfmgr.csv, dbdfundm.csv, dbdprof.csv\n",
    "# FundID,Person Code,Designation,Fund Manager,Experience,Qualification,Fund,DateFrom,DateTo\n",
    "DIR_PATH"
   ]
  },
  {
   "cell_type": "code",
   "execution_count": 26,
   "id": "ba25dfea-5ced-4c20-8994-b41f2b070450",
   "metadata": {},
   "outputs": [],
   "source": [
    "def get_df(dir_path, file_name, asof_date, lst_col, lst_drop_col, rename_col_mapping):\n",
    "    file_name = os.path.join(dir_path, file_name)\n",
    "    print(file_name)\n",
    "    if os.path.isfile(file_name):\n",
    "        print('Reading the file into df...')\n",
    "        df = pd.read_csv(file_name, sep ='|', names=lst_col, encoding= 'unicode_escape' )\n",
    "        df.iloc[:, -1] = df.iloc[:, -1].str.split('<</EOR>>', expand=True)\n",
    "        # print(df.head())\n",
    "        df = df.drop(lst_drop_col, axis=1)\n",
    "        df.rename(columns=rename_col_mapping, inplace=True)\n",
    "    else:\n",
    "        df = pd.DataFrame()\n",
    "\n",
    "    return df"
   ]
  },
  {
   "cell_type": "code",
   "execution_count": 27,
   "id": "952b6282",
   "metadata": {},
   "outputs": [
    {
     "name": "stdout",
     "output_type": "stream",
     "text": [
      "C:\\dev\\backend\\tasks\\samples\\cmots\\22082023\\dbdmfmgr.csv\n",
      "Reading the file into df...\n"
     ]
    },
    {
     "data": {
      "text/html": [
       "<div>\n",
       "<style scoped>\n",
       "    .dataframe tbody tr th:only-of-type {\n",
       "        vertical-align: middle;\n",
       "    }\n",
       "\n",
       "    .dataframe tbody tr th {\n",
       "        vertical-align: top;\n",
       "    }\n",
       "\n",
       "    .dataframe thead th {\n",
       "        text-align: right;\n",
       "    }\n",
       "</style>\n",
       "<table border=\"1\" class=\"dataframe\">\n",
       "  <thead>\n",
       "    <tr style=\"text-align: right;\">\n",
       "      <th></th>\n",
       "      <th>FundID</th>\n",
       "      <th>Person Code</th>\n",
       "      <th>Area_</th>\n",
       "      <th>DateFrom</th>\n",
       "      <th>DateTo</th>\n",
       "      <th>Status_</th>\n",
       "      <th>Flag_</th>\n",
       "    </tr>\n",
       "  </thead>\n",
       "  <tbody>\n",
       "    <tr>\n",
       "      <th>0</th>\n",
       "      <td>22370</td>\n",
       "      <td>692</td>\n",
       "      <td>Equity</td>\n",
       "      <td>01/06/2021</td>\n",
       "      <td>18/08/2023</td>\n",
       "      <td>E</td>\n",
       "      <td>A</td>\n",
       "    </tr>\n",
       "    <tr>\n",
       "      <th>1</th>\n",
       "      <td>22369</td>\n",
       "      <td>692</td>\n",
       "      <td>Equity</td>\n",
       "      <td>01/06/2021</td>\n",
       "      <td>18/08/2023</td>\n",
       "      <td>E</td>\n",
       "      <td>A</td>\n",
       "    </tr>\n",
       "    <tr>\n",
       "      <th>2</th>\n",
       "      <td>22373</td>\n",
       "      <td>692</td>\n",
       "      <td>Equity</td>\n",
       "      <td>01/06/2021</td>\n",
       "      <td>18/08/2023</td>\n",
       "      <td>E</td>\n",
       "      <td>A</td>\n",
       "    </tr>\n",
       "    <tr>\n",
       "      <th>3</th>\n",
       "      <td>22371</td>\n",
       "      <td>692</td>\n",
       "      <td>Equity</td>\n",
       "      <td>01/06/2021</td>\n",
       "      <td>18/08/2023</td>\n",
       "      <td>E</td>\n",
       "      <td>A</td>\n",
       "    </tr>\n",
       "    <tr>\n",
       "      <th>4</th>\n",
       "      <td>1726</td>\n",
       "      <td>692</td>\n",
       "      <td>Equity</td>\n",
       "      <td>12/05/2022</td>\n",
       "      <td>18/08/2023</td>\n",
       "      <td>E</td>\n",
       "      <td>A</td>\n",
       "    </tr>\n",
       "  </tbody>\n",
       "</table>\n",
       "</div>"
      ],
      "text/plain": [
       "   FundID  Person Code   Area_    DateFrom      DateTo Status_ Flag_\n",
       "0   22370          692  Equity  01/06/2021  18/08/2023       E     A\n",
       "1   22369          692  Equity  01/06/2021  18/08/2023       E     A\n",
       "2   22373          692  Equity  01/06/2021  18/08/2023       E     A\n",
       "3   22371          692  Equity  01/06/2021  18/08/2023       E     A\n",
       "4    1726          692  Equity  12/05/2022  18/08/2023       E     A"
      ]
     },
     "execution_count": 27,
     "metadata": {},
     "output_type": "execute_result"
    }
   ],
   "source": [
    "# get data for MF Fund Manager Date History\n",
    "# 1] dbdmfmgr.csv\n",
    "lst_col = [\"MF_COCODE\",\"MF_SCHCODE\",\"SCHTYPCODE\",\"FUNDCODE\",\"AREA\",\"WEF\",\"TODATE\",\"STATUS\",\"SLNO\",\"FLAG\"]\n",
    "lst_used = [\"MF_SCHCODE\",\"FUNDCODE\",\"AREA\",\"WEF\",\"TODATE\",\"STATUS\", \"FLAG\"]\n",
    "lst_drop = [item for item in lst_col if item not in lst_used]\n",
    "\n",
    "new_col = [\"FundID\", \"Person Code\", \"Area_\", \"DateFrom\", \"DateTo\", \"Status_\", \"Flag_\"]\n",
    "rename_col_mapping = dict(zip(lst_used, new_col))\n",
    "#print(rename_col_mapping)\n",
    "\n",
    "df_dbdmfmgr = get_df(DIR_PATH, \"dbdmfmgr.csv\", asof_date, lst_col, lst_drop, rename_col_mapping)\n",
    "# df_dbdmfmgr.sort_values(\"MF_SCHCODE\", inplace=True)\n",
    "df_dbdmfmgr.head()"
   ]
  },
  {
   "cell_type": "code",
   "execution_count": 30,
   "id": "ffedbb68",
   "metadata": {},
   "outputs": [
    {
     "name": "stdout",
     "output_type": "stream",
     "text": [
      "[]\n",
      "{'FUNDCODE': 'FundID', 'QUAL': 'Qualification', 'DESIG': 'Designation', 'EXPERIENCE': 'Experience', 'REMARKS': 'Remarks_', 'FLAG': 'Flag_'}\n",
      "C:\\dev\\backend\\tasks\\samples\\cmots\\22082023\\dbdprof.csv\n",
      "Reading the file into df...\n"
     ]
    },
    {
     "data": {
      "text/html": [
       "<div>\n",
       "<style scoped>\n",
       "    .dataframe tbody tr th:only-of-type {\n",
       "        vertical-align: middle;\n",
       "    }\n",
       "\n",
       "    .dataframe tbody tr th {\n",
       "        vertical-align: top;\n",
       "    }\n",
       "\n",
       "    .dataframe thead th {\n",
       "        text-align: right;\n",
       "    }\n",
       "</style>\n",
       "<table border=\"1\" class=\"dataframe\">\n",
       "  <thead>\n",
       "    <tr style=\"text-align: right;\">\n",
       "      <th></th>\n",
       "      <th>FundID</th>\n",
       "      <th>Qualification</th>\n",
       "      <th>Designation</th>\n",
       "      <th>Experience</th>\n",
       "      <th>Remarks_</th>\n",
       "      <th>Flag_</th>\n",
       "    </tr>\n",
       "  </thead>\n",
       "  <tbody>\n",
       "    <tr>\n",
       "      <th>0</th>\n",
       "      <td>1074</td>\n",
       "      <td>MBA (Finance) &amp;, B-Tech (Mechanical Engineering)</td>\n",
       "      <td>FUND MANAGER</td>\n",
       "      <td>\u0007 Fund Manager &amp; Research Analyst. - Mahindra ...</td>\n",
       "      <td>NaN</td>\n",
       "      <td>A</td>\n",
       "    </tr>\n",
       "  </tbody>\n",
       "</table>\n",
       "</div>"
      ],
      "text/plain": [
       "   FundID                                      Qualification   Designation  \\\n",
       "0    1074  MBA (Finance) &, B-Tech (Mechanical Engineering)   FUND MANAGER   \n",
       "\n",
       "                                          Experience  Remarks_ Flag_  \n",
       "0  \u0007 Fund Manager & Research Analyst. - Mahindra ...       NaN     A  "
      ]
     },
     "execution_count": 30,
     "metadata": {},
     "output_type": "execute_result"
    }
   ],
   "source": [
    "# get data for MF Fund Manager Profile Details\n",
    "# 2] dbdprof.csv\n",
    "lst_col = [\"FUNDCODE\",\"QUAL\",\"DESIG\",\"EXPERIENCE\",\"REMARKS\",\"FLAG\"]\n",
    "lst_used = [\"FUNDCODE\",\"QUAL\",\"DESIG\",\"EXPERIENCE\",\"REMARKS\",\"FLAG\"]\n",
    "lst_drop = [item for item in lst_col if item not in lst_used]\n",
    "\n",
    "new_col = [\"FundID\", \"Qualification\", \"Designation\", \"Experience\", \"Remarks_\", \"Flag_\"]\n",
    "rename_col_mapping = dict(zip(lst_used, new_col))\n",
    "#print(rename_col_mapping)\n",
    "\n",
    "df_dbdprof = get_df(DIR_PATH, \"dbdprof.csv\", asof_date, lst_col, lst_drop, rename_col_mapping)\n",
    "# df_dbdprof.sort_values(\"MF_SCHCODE\", inplace=True)\n",
    "df_dbdprof.head()"
   ]
  },
  {
   "cell_type": "code",
   "execution_count": 31,
   "id": "7bbcc736",
   "metadata": {},
   "outputs": [
    {
     "name": "stdout",
     "output_type": "stream",
     "text": [
      "C:\\dev\\backend\\tasks\\samples\\cmots\\22082023\\dbdfundm.csv\n",
      "Reading the file into df...\n"
     ]
    },
    {
     "data": {
      "text/html": [
       "<div>\n",
       "<style scoped>\n",
       "    .dataframe tbody tr th:only-of-type {\n",
       "        vertical-align: middle;\n",
       "    }\n",
       "\n",
       "    .dataframe tbody tr th {\n",
       "        vertical-align: top;\n",
       "    }\n",
       "\n",
       "    .dataframe thead th {\n",
       "        text-align: right;\n",
       "    }\n",
       "</style>\n",
       "<table border=\"1\" class=\"dataframe\">\n",
       "  <thead>\n",
       "    <tr style=\"text-align: right;\">\n",
       "      <th></th>\n",
       "      <th>FundID</th>\n",
       "      <th>Fund Manager</th>\n",
       "      <th>Flag_</th>\n",
       "    </tr>\n",
       "  </thead>\n",
       "  <tbody>\n",
       "    <tr>\n",
       "      <th>0</th>\n",
       "      <td>1084</td>\n",
       "      <td>Balakumar B</td>\n",
       "      <td>A</td>\n",
       "    </tr>\n",
       "  </tbody>\n",
       "</table>\n",
       "</div>"
      ],
      "text/plain": [
       "   FundID Fund Manager Flag_\n",
       "0    1084  Balakumar B     A"
      ]
     },
     "execution_count": 31,
     "metadata": {},
     "output_type": "execute_result"
    }
   ],
   "source": [
    "# get data for MF Fund Manager Names\n",
    "# 3] dbdfundm.csv\n",
    "lst_col = [\"FUNDCODE\",\"FUND_MGR\",\"FLAG\"]\n",
    "lst_used = [\"FUNDCODE\",\"FUND_MGR\",\"FLAG\"]\n",
    "lst_drop = [item for item in lst_col if item not in lst_used]\n",
    "\n",
    "new_col = [\"FundID\", \"Fund Manager\", \"Flag_\"]\n",
    "rename_col_mapping = dict(zip(lst_used, new_col))\n",
    "#print(rename_col_mapping)\n",
    "\n",
    "df_dbdfundm = get_df(DIR_PATH, \"dbdfundm.csv\", asof_date, lst_col, lst_drop, rename_col_mapping)\n",
    "# df_dbdfundm.sort_values(\"MF_SCHCODE\", inplace=True)\n",
    "df_dbdfundm.head()"
   ]
  },
  {
   "cell_type": "code",
   "execution_count": null,
   "id": "494e7d3e",
   "metadata": {},
   "outputs": [],
   "source": [
    "# Next step should be combining the 3 datasets from above, we would require master dumps atleast once every week/month"
   ]
  }
 ],
 "metadata": {
  "kernelspec": {
   "display_name": "Python 3 (ipykernel)",
   "language": "python",
   "name": "python3"
  },
  "language_info": {
   "codemirror_mode": {
    "name": "ipython",
    "version": 3
   },
   "file_extension": ".py",
   "mimetype": "text/x-python",
   "name": "python",
   "nbconvert_exporter": "python",
   "pygments_lexer": "ipython3",
   "version": "3.10.8"
  }
 },
 "nbformat": 4,
 "nbformat_minor": 5
}
