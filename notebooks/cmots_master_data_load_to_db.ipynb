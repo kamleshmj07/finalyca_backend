{
 "cells": [
  {
   "cell_type": "code",
   "execution_count": 1,
   "id": "9da5827e-7ab6-448b-9d59-483e37a709f8",
   "metadata": {},
   "outputs": [],
   "source": [
    "import pandas as pd\n",
    "import os\n",
    "import datetime\n",
    "import json\n",
    "from functools import reduce"
   ]
  },
  {
   "cell_type": "code",
   "execution_count": 2,
   "id": "850969e0-f1bc-47c1-ba1d-c646b2a9e6f2",
   "metadata": {},
   "outputs": [
    {
     "data": {
      "text/plain": [
       "'C:\\\\dev\\\\backend\\\\tasks\\\\samples\\\\cmots\\\\21012023'"
      ]
     },
     "execution_count": 2,
     "metadata": {},
     "output_type": "execute_result"
    }
   ],
   "source": [
    "ROOT_DIR = r\"C:\\dev\\backend\\tasks\\samples\\cmots\"\n",
    "asof_date = datetime.date(2023, 1, 21)\n",
    "DIR_PATH = os.path.join(ROOT_DIR, asof_date.strftime(\"%d%m%Y\"))\n",
    "\n",
    "# Files needed to be refreshed from CMOTS ftp : amfimaster.csv, mfcat.csv, mfisin_all.csv, mutfund.csv\n",
    "\n",
    "DIR_PATH"
   ]
  },
  {
   "cell_type": "code",
   "execution_count": 3,
   "id": "ba25dfea-5ced-4c20-8994-b41f2b070450",
   "metadata": {},
   "outputs": [],
   "source": [
    "def get_df(dir_path, file_name, asof_date, lst_col, lst_drop_col):\n",
    "    file_name = os.path.join(dir_path, file_name)\n",
    "    print(file_name)\n",
    "    if os.path.isfile(file_name):\n",
    "        print('Reading the file into df...')\n",
    "        df = pd.read_csv(file_name, sep ='|', names=lst_col, encoding= 'unicode_escape' )\n",
    "        df.iloc[:, -1] = df.iloc[:, -1].str.split('<</EOR>>', expand=True)\n",
    "        # print(df.head())\n",
    "        df = df.drop(lst_drop_col, axis=1)\n",
    "    else:\n",
    "        df = pd.DataFrame()\n",
    "    return df"
   ]
  },
  {
   "cell_type": "code",
   "execution_count": 4,
   "id": "952b6282",
   "metadata": {},
   "outputs": [
    {
     "name": "stdout",
     "output_type": "stream",
     "text": [
      "C:\\dev\\backend\\tasks\\samples\\cmots\\21012023\\amfimaster.csv\n",
      "Reading the file into df...\n"
     ]
    },
    {
     "data": {
      "text/html": [
       "<div>\n",
       "<style scoped>\n",
       "    .dataframe tbody tr th:only-of-type {\n",
       "        vertical-align: middle;\n",
       "    }\n",
       "\n",
       "    .dataframe tbody tr th {\n",
       "        vertical-align: top;\n",
       "    }\n",
       "\n",
       "    .dataframe thead th {\n",
       "        text-align: right;\n",
       "    }\n",
       "</style>\n",
       "<table border=\"1\" class=\"dataframe\">\n",
       "  <thead>\n",
       "    <tr style=\"text-align: right;\">\n",
       "      <th></th>\n",
       "      <th>MF_COCODE</th>\n",
       "      <th>MF_SCHCODE</th>\n",
       "      <th>SCH_NAME</th>\n",
       "      <th>AMFICODE</th>\n",
       "    </tr>\n",
       "  </thead>\n",
       "  <tbody>\n",
       "    <tr>\n",
       "      <th>104</th>\n",
       "      <td>5946</td>\n",
       "      <td>1</td>\n",
       "      <td>Aditya Birla SL Equity Hybrid '95 Fund (G)</td>\n",
       "      <td>103155</td>\n",
       "    </tr>\n",
       "    <tr>\n",
       "      <th>105</th>\n",
       "      <td>5946</td>\n",
       "      <td>2</td>\n",
       "      <td>Aditya Birla SL Equity Hybrid '95 Fund (IDCW)</td>\n",
       "      <td>103154</td>\n",
       "    </tr>\n",
       "    <tr>\n",
       "      <th>106</th>\n",
       "      <td>5946</td>\n",
       "      <td>7</td>\n",
       "      <td>Aditya Birla SL Tax Relief '96 (IDCW)</td>\n",
       "      <td>103164</td>\n",
       "    </tr>\n",
       "    <tr>\n",
       "      <th>108</th>\n",
       "      <td>5946</td>\n",
       "      <td>8</td>\n",
       "      <td>Aditya Birla SL Low Duration Fund (G)</td>\n",
       "      <td>103192</td>\n",
       "    </tr>\n",
       "    <tr>\n",
       "      <th>109</th>\n",
       "      <td>5946</td>\n",
       "      <td>9</td>\n",
       "      <td>Aditya Birla SL Flexi Cap Fund (G)</td>\n",
       "      <td>103166</td>\n",
       "    </tr>\n",
       "  </tbody>\n",
       "</table>\n",
       "</div>"
      ],
      "text/plain": [
       "     MF_COCODE  MF_SCHCODE                                       SCH_NAME  \\\n",
       "104       5946           1     Aditya Birla SL Equity Hybrid '95 Fund (G)   \n",
       "105       5946           2  Aditya Birla SL Equity Hybrid '95 Fund (IDCW)   \n",
       "106       5946           7          Aditya Birla SL Tax Relief '96 (IDCW)   \n",
       "108       5946           8          Aditya Birla SL Low Duration Fund (G)   \n",
       "109       5946           9             Aditya Birla SL Flexi Cap Fund (G)   \n",
       "\n",
       "     AMFICODE  \n",
       "104    103155  \n",
       "105    103154  \n",
       "106    103164  \n",
       "108    103192  \n",
       "109    103166  "
      ]
     },
     "execution_count": 4,
     "metadata": {},
     "output_type": "execute_result"
    }
   ],
   "source": [
    "# get data for amfi scheme master\n",
    "# 1] amfimaster.csv\n",
    "lst_col = [\"MF_COCODE\",\"MF_SCHCODE\",\"SRNO\",\"SCH_NAME\",\"AMFICODE\",\"FLAG\"]\n",
    "lst_used = [\"MF_COCODE\",\"MF_SCHCODE\",\"SCH_NAME\",\"AMFICODE\"]\n",
    "lst_drop = [item for item in lst_col if item not in lst_used]\n",
    "\n",
    "df_amfimas = get_df(DIR_PATH, \"amfimaster.csv\", asof_date, lst_col, lst_drop)\n",
    "df_amfimas.sort_values(\"MF_SCHCODE\", inplace=True)\n",
    "df_amfimas.head()"
   ]
  },
  {
   "cell_type": "code",
   "execution_count": 5,
   "id": "e5f8c2b0",
   "metadata": {},
   "outputs": [
    {
     "name": "stdout",
     "output_type": "stream",
     "text": [
      "C:\\dev\\backend\\tasks\\samples\\cmots\\21012023\\mfcat.csv\n",
      "Reading the file into df...\n"
     ]
    },
    {
     "data": {
      "text/html": [
       "<div>\n",
       "<style scoped>\n",
       "    .dataframe tbody tr th:only-of-type {\n",
       "        vertical-align: middle;\n",
       "    }\n",
       "\n",
       "    .dataframe tbody tr th {\n",
       "        vertical-align: top;\n",
       "    }\n",
       "\n",
       "    .dataframe thead th {\n",
       "        text-align: right;\n",
       "    }\n",
       "</style>\n",
       "<table border=\"1\" class=\"dataframe\">\n",
       "  <thead>\n",
       "    <tr style=\"text-align: right;\">\n",
       "      <th></th>\n",
       "      <th>GRPCODE</th>\n",
       "      <th>MF_SCHCODE</th>\n",
       "      <th>GRPNAME</th>\n",
       "      <th>PLANNAME</th>\n",
       "      <th>OPTIONNAME</th>\n",
       "    </tr>\n",
       "  </thead>\n",
       "  <tbody>\n",
       "    <tr>\n",
       "      <th>0</th>\n",
       "      <td>ABSL1</td>\n",
       "      <td>1</td>\n",
       "      <td>Aditya Birla SL Equity Hybrid '95 Fund</td>\n",
       "      <td>Regular</td>\n",
       "      <td>Growth</td>\n",
       "    </tr>\n",
       "    <tr>\n",
       "      <th>1</th>\n",
       "      <td>ABSL1</td>\n",
       "      <td>2</td>\n",
       "      <td>Aditya Birla SL Equity Hybrid '95 Fund</td>\n",
       "      <td>Regular</td>\n",
       "      <td>Dividend</td>\n",
       "    </tr>\n",
       "    <tr>\n",
       "      <th>2</th>\n",
       "      <td>ABSL7324</td>\n",
       "      <td>7</td>\n",
       "      <td>Aditya Birla SL Tax Relief '96</td>\n",
       "      <td>Regular</td>\n",
       "      <td>Dividend</td>\n",
       "    </tr>\n",
       "    <tr>\n",
       "      <th>3</th>\n",
       "      <td>ABSL8</td>\n",
       "      <td>8</td>\n",
       "      <td>Aditya Birla SL Low Duration Fund</td>\n",
       "      <td>Regular</td>\n",
       "      <td>Growth</td>\n",
       "    </tr>\n",
       "    <tr>\n",
       "      <th>4</th>\n",
       "      <td>ABSL9</td>\n",
       "      <td>9</td>\n",
       "      <td>Aditya Birla SL Flexi Cap Fund</td>\n",
       "      <td>Regular</td>\n",
       "      <td>Growth</td>\n",
       "    </tr>\n",
       "  </tbody>\n",
       "</table>\n",
       "</div>"
      ],
      "text/plain": [
       "    GRPCODE  MF_SCHCODE                                 GRPNAME PLANNAME  \\\n",
       "0     ABSL1           1  Aditya Birla SL Equity Hybrid '95 Fund  Regular   \n",
       "1     ABSL1           2  Aditya Birla SL Equity Hybrid '95 Fund  Regular   \n",
       "2  ABSL7324           7          Aditya Birla SL Tax Relief '96  Regular   \n",
       "3     ABSL8           8       Aditya Birla SL Low Duration Fund  Regular   \n",
       "4     ABSL9           9          Aditya Birla SL Flexi Cap Fund  Regular   \n",
       "\n",
       "  OPTIONNAME  \n",
       "0     Growth  \n",
       "1   Dividend  \n",
       "2   Dividend  \n",
       "3     Growth  \n",
       "4     Growth  "
      ]
     },
     "execution_count": 5,
     "metadata": {},
     "output_type": "execute_result"
    }
   ],
   "source": [
    "# 2] mfcat.csv\n",
    "lst_col = [\"MF_COCODE\",\"GRPCODE\",\"MF_SCHCODE\",\"GRPNAME\",\"MF_SCHNAME\",\n",
    "           \"PLANNAME\",\"MPLANNAME\",\"OPTIONNAME\",\"MOPTIONNAME\"]\n",
    "lst_used = [\"MF_SCHCODE\",\"GRPCODE\",\"GRPNAME\",\n",
    "            \"PLANNAME\",\"OPTIONNAME\"]\n",
    "lst_drop = [item for item in lst_col if item not in lst_used]\n",
    "\n",
    "df_mfcat = get_df(DIR_PATH, \"mfcat.csv\", asof_date, lst_col, lst_drop)\n",
    "df_mfcat.sort_values(\"MF_SCHCODE\", inplace=True)\n",
    "df_mfcat.head()"
   ]
  },
  {
   "cell_type": "code",
   "execution_count": 6,
   "id": "d48bff3f-a976-49c0-a12a-519908d9ec96",
   "metadata": {},
   "outputs": [
    {
     "name": "stdout",
     "output_type": "stream",
     "text": [
      "C:\\dev\\backend\\tasks\\samples\\cmots\\21012023\\mfisin_all.csv\n",
      "Reading the file into df...\n"
     ]
    },
    {
     "data": {
      "text/html": [
       "<div>\n",
       "<style scoped>\n",
       "    .dataframe tbody tr th:only-of-type {\n",
       "        vertical-align: middle;\n",
       "    }\n",
       "\n",
       "    .dataframe tbody tr th {\n",
       "        vertical-align: top;\n",
       "    }\n",
       "\n",
       "    .dataframe thead th {\n",
       "        text-align: right;\n",
       "    }\n",
       "</style>\n",
       "<table border=\"1\" class=\"dataframe\">\n",
       "  <thead>\n",
       "    <tr style=\"text-align: right;\">\n",
       "      <th></th>\n",
       "      <th>MF_SCHCODE</th>\n",
       "      <th>ISIN</th>\n",
       "    </tr>\n",
       "  </thead>\n",
       "  <tbody>\n",
       "    <tr>\n",
       "      <th>0</th>\n",
       "      <td>1</td>\n",
       "      <td>INF209K01BT5</td>\n",
       "    </tr>\n",
       "    <tr>\n",
       "      <th>1</th>\n",
       "      <td>2</td>\n",
       "      <td>INF209K01BS7</td>\n",
       "    </tr>\n",
       "    <tr>\n",
       "      <th>2</th>\n",
       "      <td>2</td>\n",
       "      <td>INF209K01EE1</td>\n",
       "    </tr>\n",
       "    <tr>\n",
       "      <th>3</th>\n",
       "      <td>7</td>\n",
       "      <td>INF209K01090</td>\n",
       "    </tr>\n",
       "    <tr>\n",
       "      <th>4</th>\n",
       "      <td>7</td>\n",
       "      <td>INF209K01CB1</td>\n",
       "    </tr>\n",
       "  </tbody>\n",
       "</table>\n",
       "</div>"
      ],
      "text/plain": [
       "   MF_SCHCODE          ISIN\n",
       "0           1  INF209K01BT5\n",
       "1           2  INF209K01BS7\n",
       "2           2  INF209K01EE1\n",
       "3           7  INF209K01090\n",
       "4           7  INF209K01CB1"
      ]
     },
     "execution_count": 6,
     "metadata": {},
     "output_type": "execute_result"
    }
   ],
   "source": [
    "# 3] mfisin_all_v2.csv\n",
    "lst_col = [\"MF_SCHCODE\",\"ISIN\"]\n",
    "\n",
    "df_mfisin = get_df(DIR_PATH, \"mfisin_all.csv\", asof_date, lst_col, [])\n",
    "#df_mfisin.sort_values(\"MF_SCHCODE\", inplace=True)\n",
    "df_mfisin.head()"
   ]
  },
  {
   "cell_type": "code",
   "execution_count": 7,
   "id": "27d06b14",
   "metadata": {},
   "outputs": [],
   "source": [
    "df_final = pd.merge(df_amfimas, df_mfcat, on=\"MF_SCHCODE\")\n",
    "df_final = pd.merge(df_final, df_mfisin, on=\"MF_SCHCODE\")\n",
    "df_final['SCH_NAME'] = df_final['SCH_NAME'].str.replace(\"'\",\"\")\n",
    "df_final['GRPNAME'] = df_final['GRPNAME'].str.replace(\"'\",\"\")\n",
    "df_final.head()\n",
    "df_final.to_excel(r'C:\\dev\\cmots\\sql\\02a_CMOTS_Plan_Data_Insert_Script.xlsx')"
   ]
  },
  {
   "cell_type": "code",
   "execution_count": 8,
   "id": "1e7f00d9",
   "metadata": {},
   "outputs": [],
   "source": [
    "df_final2 = pd.merge(df_amfimas, df_mfcat, on=\"MF_SCHCODE\")\n",
    "df_final2['SCH_NAME'] = df_final2['SCH_NAME'].str.replace(\"'\",\"\")\n",
    "df_final2['GRPNAME'] = df_final2['GRPNAME'].str.replace(\"'\",\"\")\n",
    "df_final2.head()\n",
    "df_final2.to_excel(r'C:\\dev\\cmots\\sql\\02b_CMOTS_Fund_Data_Insert_Script.xlsx')"
   ]
  },
  {
   "cell_type": "code",
   "execution_count": 9,
   "id": "fb668a2d",
   "metadata": {},
   "outputs": [
    {
     "name": "stdout",
     "output_type": "stream",
     "text": [
      "C:\\dev\\backend\\tasks\\samples\\cmots\\21012023\\mutfund.csv\n",
      "Reading the file into df...\n"
     ]
    }
   ],
   "source": [
    "# 3] mutfund.csv\n",
    "lst_col = [\"MF_COCODE\",\"AMC_NAME\",\"FUND_TYPE\",\"INCORPORAT\",\"AMC\",\n",
    "           \"ADD_1\",\"ADD_2\",\"ADD_3\",\"CITY\",\"PIN_CODE\",\"TEL_NO_1\",\n",
    "           \"TEL_NO_2\",\"FAX_NO\",\"WEBSITE_UR\",\"E_MAIL\"]\n",
    "lst_used = [\"MF_COCODE\",\"AMC_NAME\",\"FUND_TYPE\",\"AMC\"]\n",
    "lst_drop = [item for item in lst_col if item not in lst_used]\n",
    "\n",
    "df_mutfund = get_df(DIR_PATH, \"mutfund.csv\", asof_date, lst_col, lst_drop)\n",
    "df_mutfund.sort_values(\"MF_COCODE\", inplace=True)\n",
    "# df_mutfund.head()\n",
    "# df_mutfund.to_excel(r'C:\\dev\\backend\\tasks\\samples\\cmots\\27122022\\CMOTS_AMC_Mapping_Master_27122022.xlsx')"
   ]
  },
  {
   "cell_type": "code",
   "execution_count": null,
   "id": "ae0ced7d",
   "metadata": {},
   "outputs": [],
   "source": []
  }
 ],
 "metadata": {
  "kernelspec": {
   "display_name": "Python 3 (ipykernel)",
   "language": "python",
   "name": "python3"
  },
  "language_info": {
   "codemirror_mode": {
    "name": "ipython",
    "version": 3
   },
   "file_extension": ".py",
   "mimetype": "text/x-python",
   "name": "python",
   "nbconvert_exporter": "python",
   "pygments_lexer": "ipython3",
   "version": "3.10.8"
  }
 },
 "nbformat": 4,
 "nbformat_minor": 5
}
