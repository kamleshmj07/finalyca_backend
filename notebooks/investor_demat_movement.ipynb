{
 "cells": [
  {
   "cell_type": "code",
   "execution_count": 16,
   "source": [
    "from bizlogic.portfolio_json import read_statement, prepare_raw_holdings\r\n",
    "from bizlogic.portfolio_analysis import get_sector_exposure, get_location_exposure, get_issuer_exposure,\\\r\n",
    "get_instrument_type_exposure, get_consolidated_securities, analyze_portfolio_movement\r\n",
    "from bizlogic.portfolio_db import prepare_raw_holdings_from_db\r\n",
    "from typing import Dict\r\n",
    "from sqlalchemy import func\r\n",
    "import json\r\n",
    "from datetime import date, timedelta\r\n",
    "from utils.finalyca_store import get_finalyca_scoped_session\r\n",
    "import pandas as pd\r\n",
    "from utils.utils import print_query\r\n",
    "from fin_models.masters_models import *\r\n",
    "from fin_models.transaction_models import *\r\n",
    "from bizlogic.analytics import get_nav_trend, get_nav\r\n",
    "import datetime\r\n",
    "\r\n",
    "from fin_models.controller_transaction_models import *\r\n",
    "from bizlogic.importer_helper import prepare_plan_holdings, find_portfolio_overlap\r\n",
    "from bizlogic.investor_portfolio import *\r\n"
   ],
   "outputs": [],
   "metadata": {}
  },
  {
   "cell_type": "code",
   "execution_count": 17,
   "source": [
    "pd.set_option('display.max_rows', None)"
   ],
   "outputs": [],
   "metadata": {}
  },
  {
   "cell_type": "code",
   "execution_count": 18,
   "source": [
    "db_session = get_finalyca_scoped_session(False)"
   ],
   "outputs": [],
   "metadata": {}
  },
  {
   "cell_type": "code",
   "execution_count": 19,
   "source": [
    "account_ids =  [63, 64, 65, 66, 67, 68, 69, 70, 71, 72, 73]\r\n",
    "start_date = datetime.date(2022, 7, 31)\r\n",
    "end_date = datetime.date(2022, 10, 31)\r\n",
    "detailed_analysis = False"
   ],
   "outputs": [],
   "metadata": {}
  },
  {
   "cell_type": "code",
   "execution_count": 20,
   "source": [
    "securities = get_normalized_portfolio_holdings(db_session, account_ids, start_date, detailed_analysis)\r\n",
    "cols = [\"total_price\", \"units\", \"instrument_type\", \"asset_class\", \"issuer\", \"sub_sector\", \"market_cap\", \"equity_style\", \"risk_category\", \"account_alias\", \"unit_price\", \"coupon_rate\", \"maturity\", \"portfolio_date\"\t]\r\n",
    "securities_light = securities.drop(cols, axis=1)\r\n",
    "\r\n",
    "plan_id = 5\r\n",
    "plan_dfs = prepare_plan_holdings(db_session, [plan_id])\r\n",
    "final_df = plan_dfs[plan_id]\r\n",
    "find_portfolio_overlap(securities, final_df, True)"
   ],
   "outputs": [],
   "metadata": {}
  },
  {
   "cell_type": "code",
   "execution_count": 24,
   "source": [
    "portfolio_movement_df = get_portfolio_movement(db_session, account_ids, start_date, end_date, detailed_analysis)\r\n",
    "portfolio_movement_df"
   ],
   "outputs": [
    {
     "output_type": "execute_result",
     "data": {
      "text/plain": [
       "           isin                                      name       Holding_Type  \\\n",
       "5  INF966L01580                Quant Multi Asset Direct-G  Increase_Exposure   \n",
       "6  INF179K01WA6          HDFC Balanced Advantage Direct-G  Increase_Exposure   \n",
       "7  INF109K012B0     ICICI Pru Balanced Advantage Direct-G  Increase_Exposure   \n",
       "8  INF204K01G94  Nippon India Balanced Advantage Direct-G  Increase_Exposure   \n",
       "9  INF754K01BS2     Edelweiss Balanced Advantage Direct-G  Increase_Exposure   \n",
       "0  INF789F1AUX7                              UTI Gold ETF  Decrease_Exposure   \n",
       "1  INF174KA1HJ8                            Kotak Gold ETF  Decrease_Exposure   \n",
       "2  INF200KA16D8                              SBI Gold ETF  Decrease_Exposure   \n",
       "3  INF179KC1981                             HDFC Gold ETF  Decrease_Exposure   \n",
       "4  INF846K01W80                             Axis Gold ETF  Decrease_Exposure   \n",
       "\n",
       "   total_price     weight     account_alias portfolio_date  total_price_P  \\\n",
       "5     64436.29   5.207099  1208160102092607     2022-10-31       26186.03   \n",
       "6     63721.94   5.149372  1208160102092607     2022-10-31       26150.29   \n",
       "7     62082.25   5.016869  1208160102092607     2022-10-31       25630.33   \n",
       "8     62028.81   5.012550  1208160102092607     2022-10-31       25829.27   \n",
       "9     62028.74   5.012545  1208160102092607     2022-10-31       25973.20   \n",
       "0    233820.00  18.895003  IN30021424681073     2022-10-31      239444.10   \n",
       "1    195480.00  15.796746  IN30021424681073     2022-10-31      198900.00   \n",
       "2    177720.00  14.361560  IN30021424681073     2022-10-31      182443.60   \n",
       "3    159948.00  12.925404  IN30021424681073     2022-10-31      163905.84   \n",
       "4    156204.00  12.622851  IN30021424681073     2022-10-31      159744.24   \n",
       "\n",
       "    weight_P portfolio_date_P  weight_diff  \n",
       "5   2.437708       2022-07-31     2.769391  \n",
       "6   2.434381       2022-07-31     2.714991  \n",
       "7   2.385977       2022-07-31     2.630892  \n",
       "8   2.404497       2022-07-31     2.608054  \n",
       "9   2.417895       2022-07-31     2.594649  \n",
       "0  22.290315       2022-07-31    -3.395312  \n",
       "1  18.515986       2022-07-31    -2.719240  \n",
       "2  16.984028       2022-07-31    -2.622468  \n",
       "3  15.258312       2022-07-31    -2.332908  \n",
       "4  14.870901       2022-07-31    -2.248049  "
      ],
      "text/html": [
       "<div>\n",
       "<style scoped>\n",
       "    .dataframe tbody tr th:only-of-type {\n",
       "        vertical-align: middle;\n",
       "    }\n",
       "\n",
       "    .dataframe tbody tr th {\n",
       "        vertical-align: top;\n",
       "    }\n",
       "\n",
       "    .dataframe thead th {\n",
       "        text-align: right;\n",
       "    }\n",
       "</style>\n",
       "<table border=\"1\" class=\"dataframe\">\n",
       "  <thead>\n",
       "    <tr style=\"text-align: right;\">\n",
       "      <th></th>\n",
       "      <th>isin</th>\n",
       "      <th>name</th>\n",
       "      <th>Holding_Type</th>\n",
       "      <th>total_price</th>\n",
       "      <th>weight</th>\n",
       "      <th>account_alias</th>\n",
       "      <th>portfolio_date</th>\n",
       "      <th>total_price_P</th>\n",
       "      <th>weight_P</th>\n",
       "      <th>portfolio_date_P</th>\n",
       "      <th>weight_diff</th>\n",
       "    </tr>\n",
       "  </thead>\n",
       "  <tbody>\n",
       "    <tr>\n",
       "      <th>5</th>\n",
       "      <td>INF966L01580</td>\n",
       "      <td>Quant Multi Asset Direct-G</td>\n",
       "      <td>Increase_Exposure</td>\n",
       "      <td>64436.29</td>\n",
       "      <td>5.207099</td>\n",
       "      <td>1208160102092607</td>\n",
       "      <td>2022-10-31</td>\n",
       "      <td>26186.03</td>\n",
       "      <td>2.437708</td>\n",
       "      <td>2022-07-31</td>\n",
       "      <td>2.769391</td>\n",
       "    </tr>\n",
       "    <tr>\n",
       "      <th>6</th>\n",
       "      <td>INF179K01WA6</td>\n",
       "      <td>HDFC Balanced Advantage Direct-G</td>\n",
       "      <td>Increase_Exposure</td>\n",
       "      <td>63721.94</td>\n",
       "      <td>5.149372</td>\n",
       "      <td>1208160102092607</td>\n",
       "      <td>2022-10-31</td>\n",
       "      <td>26150.29</td>\n",
       "      <td>2.434381</td>\n",
       "      <td>2022-07-31</td>\n",
       "      <td>2.714991</td>\n",
       "    </tr>\n",
       "    <tr>\n",
       "      <th>7</th>\n",
       "      <td>INF109K012B0</td>\n",
       "      <td>ICICI Pru Balanced Advantage Direct-G</td>\n",
       "      <td>Increase_Exposure</td>\n",
       "      <td>62082.25</td>\n",
       "      <td>5.016869</td>\n",
       "      <td>1208160102092607</td>\n",
       "      <td>2022-10-31</td>\n",
       "      <td>25630.33</td>\n",
       "      <td>2.385977</td>\n",
       "      <td>2022-07-31</td>\n",
       "      <td>2.630892</td>\n",
       "    </tr>\n",
       "    <tr>\n",
       "      <th>8</th>\n",
       "      <td>INF204K01G94</td>\n",
       "      <td>Nippon India Balanced Advantage Direct-G</td>\n",
       "      <td>Increase_Exposure</td>\n",
       "      <td>62028.81</td>\n",
       "      <td>5.012550</td>\n",
       "      <td>1208160102092607</td>\n",
       "      <td>2022-10-31</td>\n",
       "      <td>25829.27</td>\n",
       "      <td>2.404497</td>\n",
       "      <td>2022-07-31</td>\n",
       "      <td>2.608054</td>\n",
       "    </tr>\n",
       "    <tr>\n",
       "      <th>9</th>\n",
       "      <td>INF754K01BS2</td>\n",
       "      <td>Edelweiss Balanced Advantage Direct-G</td>\n",
       "      <td>Increase_Exposure</td>\n",
       "      <td>62028.74</td>\n",
       "      <td>5.012545</td>\n",
       "      <td>1208160102092607</td>\n",
       "      <td>2022-10-31</td>\n",
       "      <td>25973.20</td>\n",
       "      <td>2.417895</td>\n",
       "      <td>2022-07-31</td>\n",
       "      <td>2.594649</td>\n",
       "    </tr>\n",
       "    <tr>\n",
       "      <th>0</th>\n",
       "      <td>INF789F1AUX7</td>\n",
       "      <td>UTI Gold ETF</td>\n",
       "      <td>Decrease_Exposure</td>\n",
       "      <td>233820.00</td>\n",
       "      <td>18.895003</td>\n",
       "      <td>IN30021424681073</td>\n",
       "      <td>2022-10-31</td>\n",
       "      <td>239444.10</td>\n",
       "      <td>22.290315</td>\n",
       "      <td>2022-07-31</td>\n",
       "      <td>-3.395312</td>\n",
       "    </tr>\n",
       "    <tr>\n",
       "      <th>1</th>\n",
       "      <td>INF174KA1HJ8</td>\n",
       "      <td>Kotak Gold ETF</td>\n",
       "      <td>Decrease_Exposure</td>\n",
       "      <td>195480.00</td>\n",
       "      <td>15.796746</td>\n",
       "      <td>IN30021424681073</td>\n",
       "      <td>2022-10-31</td>\n",
       "      <td>198900.00</td>\n",
       "      <td>18.515986</td>\n",
       "      <td>2022-07-31</td>\n",
       "      <td>-2.719240</td>\n",
       "    </tr>\n",
       "    <tr>\n",
       "      <th>2</th>\n",
       "      <td>INF200KA16D8</td>\n",
       "      <td>SBI Gold ETF</td>\n",
       "      <td>Decrease_Exposure</td>\n",
       "      <td>177720.00</td>\n",
       "      <td>14.361560</td>\n",
       "      <td>IN30021424681073</td>\n",
       "      <td>2022-10-31</td>\n",
       "      <td>182443.60</td>\n",
       "      <td>16.984028</td>\n",
       "      <td>2022-07-31</td>\n",
       "      <td>-2.622468</td>\n",
       "    </tr>\n",
       "    <tr>\n",
       "      <th>3</th>\n",
       "      <td>INF179KC1981</td>\n",
       "      <td>HDFC Gold ETF</td>\n",
       "      <td>Decrease_Exposure</td>\n",
       "      <td>159948.00</td>\n",
       "      <td>12.925404</td>\n",
       "      <td>IN30021424681073</td>\n",
       "      <td>2022-10-31</td>\n",
       "      <td>163905.84</td>\n",
       "      <td>15.258312</td>\n",
       "      <td>2022-07-31</td>\n",
       "      <td>-2.332908</td>\n",
       "    </tr>\n",
       "    <tr>\n",
       "      <th>4</th>\n",
       "      <td>INF846K01W80</td>\n",
       "      <td>Axis Gold ETF</td>\n",
       "      <td>Decrease_Exposure</td>\n",
       "      <td>156204.00</td>\n",
       "      <td>12.622851</td>\n",
       "      <td>IN30021424681073</td>\n",
       "      <td>2022-10-31</td>\n",
       "      <td>159744.24</td>\n",
       "      <td>14.870901</td>\n",
       "      <td>2022-07-31</td>\n",
       "      <td>-2.248049</td>\n",
       "    </tr>\n",
       "  </tbody>\n",
       "</table>\n",
       "</div>"
      ]
     },
     "metadata": {},
     "execution_count": 24
    }
   ],
   "metadata": {}
  },
  {
   "cell_type": "code",
   "execution_count": 25,
   "source": [
    "response = get_portfolio_history(db_session, account_ids, detailed_analysis)"
   ],
   "outputs": [
    {
     "output_type": "error",
     "ename": "NameError",
     "evalue": "name 'get_portfolio_history' is not defined",
     "traceback": [
      "\u001b[1;31m---------------------------------------------------------------------------\u001b[0m",
      "\u001b[1;31mNameError\u001b[0m                                 Traceback (most recent call last)",
      "Input \u001b[1;32mIn [25]\u001b[0m, in \u001b[0;36m<cell line: 1>\u001b[1;34m()\u001b[0m\n\u001b[1;32m----> 1\u001b[0m response \u001b[38;5;241m=\u001b[39m \u001b[43mget_portfolio_history\u001b[49m(db_session, account_ids, detailed_analysis)\n",
      "\u001b[1;31mNameError\u001b[0m: name 'get_portfolio_history' is not defined"
     ]
    }
   ],
   "metadata": {}
  },
  {
   "cell_type": "code",
   "execution_count": null,
   "source": [
    "response[\"aum\"]"
   ],
   "outputs": [
    {
     "output_type": "execute_result",
     "data": {
      "text/plain": [
       "[[1669746600.0, 1201427.86],\n",
       " [1667154600.0, 1237470.03],\n",
       " [1664476200.0, 1167748.63],\n",
       " [1661884200.0, 1135746.88],\n",
       " [1659205800.0, 1074206.9],\n",
       " [1656527400.0, 986257.54],\n",
       " [1653935400.0, 1128980.57],\n",
       " [1651257000.0, 1154103.73]]"
      ]
     },
     "metadata": {},
     "execution_count": 47
    }
   ],
   "metadata": {}
  },
  {
   "cell_type": "code",
   "execution_count": null,
   "source": [
    "securities = get_normalized_portfolio_holdings(db_session, account_ids, start_date, detailed_analysis)\r\n",
    "d= get_issuer_exposure(securities, True)"
   ],
   "outputs": [],
   "metadata": {}
  },
  {
   "cell_type": "code",
   "execution_count": null,
   "source": [
    "import requests"
   ],
   "outputs": [],
   "metadata": {}
  },
  {
   "cell_type": "code",
   "execution_count": null,
   "source": [
    "Movement_URL = \"http://localhost:5100/portfolio/investor/holdings_movement?account_id=63&account_id=64&account_id=65\\\r\n",
    "&account_id=66&account_id=67&account_id=68&account_id=69&account_id=70&account_id=71&account_id=72&account_id=73\\\r\n",
    "&start_date=2022-07-31&end_date=2022-10-31&is_detailed=0\"\r\n",
    "j = requests.get(Movement_URL).json()"
   ],
   "outputs": [],
   "metadata": {}
  },
  {
   "cell_type": "code",
   "execution_count": null,
   "source": [
    "Movement_URL = \"http://localhost:5100/portfolio/investor/portfolio_history?account_id=63&account_id=64&account_id=65\\\r\n",
    "&account_id=66&account_id=67&account_id=68&account_id=69&account_id=70&account_id=71&account_id=72&account_id=73\"\r\n",
    "j = requests.get(Movement_URL).json()"
   ],
   "outputs": [],
   "metadata": {}
  },
  {
   "cell_type": "code",
   "execution_count": null,
   "source": [],
   "outputs": [],
   "metadata": {}
  }
 ],
 "metadata": {
  "kernelspec": {
   "name": "python3",
   "display_name": "Python 3.10.1 64-bit ('venv': venv)"
  },
  "language_info": {
   "codemirror_mode": {
    "name": "ipython",
    "version": 3
   },
   "file_extension": ".py",
   "mimetype": "text/x-python",
   "name": "python",
   "nbconvert_exporter": "python",
   "pygments_lexer": "ipython3",
   "version": "3.10.1"
  },
  "interpreter": {
   "hash": "19e1a96e3436bd1f8f2e2597c16fddcda1e65ab3feb920aaa4f84fb6aaee0dc7"
  }
 },
 "nbformat": 4,
 "nbformat_minor": 5
}